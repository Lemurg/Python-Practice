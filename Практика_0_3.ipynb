{
  "cells": [
    {
      "cell_type": "markdown",
      "metadata": {
        "id": "jyIy3GOgFOCe"
      },
      "source": [
        "**Во всей практике нельзя применять библиотеки предоставляющие готовые решения!**"
      ]
    },
    {
      "cell_type": "markdown",
      "metadata": {
        "id": "XizmlL1RK2t3"
      },
      "source": [
        "# **Задача 1.**\n"
      ]
    },
    {
      "cell_type": "markdown",
      "metadata": {
        "id": "p0v6KtHTFKSd"
      },
      "source": [
        "\n",
        "\n",
        "Типы данных Напишите программу на Python, которая принимает список чисел в качестве входных данных от пользователя, а затем выводит сумму, среднее значение и максимальное значение из списка.\n",
        "\n",
        "***Нельзя использовать: len(), min(), max(), average(), sum()***\n",
        "\n",
        "Ввод:\n",
        "```\n",
        "1 2 3 4 5 6 7\n",
        "```\n",
        "Вывод:\n",
        "\n",
        "```\n",
        "Сумма чисел: 28\n",
        "Среднее арифм.: 4.0\n",
        "Максимальное значение: 7\n",
        "```\n",
        "\n"
      ]
    },
    {
      "cell_type": "code",
      "execution_count": null,
      "metadata": {
        "colab": {
          "base_uri": "https://localhost:8080/"
        },
        "id": "0e1Virl0FpF6",
        "outputId": "d645cdae-1159-4c96-c223-39441061bf04"
      },
      "outputs": [
        {
          "name": "stdout",
          "output_type": "stream",
          "text": [
            "1 2 3 4 5 6 7\n",
            "Сумма чисел: 28\n",
            "Среднее арифм.: 4\n",
            "7\n"
          ]
        }
      ],
      "source": [
        "a = list(map(int,input().split()))\n",
        "k=0\n",
        "s=0\n",
        "m=-10**10\n",
        "t=0\n",
        "for i in list(a): #Считает сумму чисел\n",
        "  s=s+i\n",
        "print('Сумма чисел:', s)\n",
        "for i in list(a): # Считает средю арифм.\n",
        "  t=t+i\n",
        "  k+=1\n",
        "print('Среднее арифм.:', t/k) #Считает максимальное значение\n",
        "for i in list(a):\n",
        "  if i>m:\n",
        "    m=i\n",
        "print('Максимальное значение:',m)"
      ]
    },
    {
      "cell_type": "markdown",
      "metadata": {
        "id": "uFluc5OSK0NH"
      },
      "source": [
        "# **Задача 2.**"
      ]
    },
    {
      "cell_type": "markdown",
      "metadata": {
        "id": "6T8vg324GG4Z"
      },
      "source": [
        "\n",
        "Напишите программу на Python, которая принимает список слов в качестве входных данных от пользователя, а затем распечатывает список в обратном порядке.\n",
        "\n",
        "Ввод:\n",
        "\n",
        "```\n",
        "апельсин мандарин яблоко\n",
        "```\n",
        "\n",
        "Вывод:\n",
        "\n",
        "```\n",
        "яблоко мандарин апельсин\n",
        "```"
      ]
    },
    {
      "cell_type": "code",
      "execution_count": null,
      "metadata": {
        "colab": {
          "base_uri": "https://localhost:8080/"
        },
        "id": "v3AWj4ufGKox",
        "outputId": "7c1455c1-97ee-401e-a6d2-ac11138b48f1"
      },
      "outputs": [
        {
          "name": "stdout",
          "output_type": "stream",
          "text": [
            "> > < <\n",
            "['<', '<', '>', '>']\n"
          ]
        }
      ],
      "source": [
        "a = list(map(str,input().split()))\n",
        "print(a[::-1])"
      ]
    },
    {
      "cell_type": "markdown",
      "metadata": {
        "id": "D1KkCxtIKxRx"
      },
      "source": [
        "# **Задача 3**"
      ]
    },
    {
      "cell_type": "markdown",
      "metadata": {
        "id": "Yq8Jgb9yHvSi"
      },
      "source": [
        "Простой чат-бот\n",
        "Создайте простого чат-бота, который отвечает на основные запросы пользователей. Программа должна использовать условные выражения для определения намерений пользователя и последующего соответствующего ответа.\n",
        "\n",
        "Чат бот может:\n",
        "\n",
        "- помогать складывать числа\n",
        "- подсказывать фильм, музыку и тд (из заранее созданного списка)\n",
        "- создавать список дел (а также выводить его, обновлять, очищать)\n",
        "\n",
        "Интерфейс чат-бота на ваше усмотрение, это могут быть как заранее определенные команды, так и к примеру вызов команды по номеру\n",
        "\n",
        "*Реализовать без использования функций*\n",
        "\n",
        "Пример:\n",
        "\n",
        "Ввод:\n",
        "\n",
        "```\n",
        "Олег, какую мызыку посоветуешь?\n",
        "```\n",
        "\n",
        "Вывод:\n",
        "\n",
        "```\n",
        "Я бы посоветовал вам: Led Zeppelin Stairway to Heaven\n",
        "```"
      ]
    },
    {
      "cell_type": "code",
      "execution_count": null,
      "metadata": {
        "colab": {
          "background_save": true,
          "base_uri": "https://localhost:8080/"
        },
        "id": "fmW-tmUtINN9",
        "outputId": "1e3a71bd-d62f-4622-da13-380251442802"
      },
      "outputs": [
        {
          "name": "stdout",
          "output_type": "stream",
          "text": [
            "Это Олег! И он тебе моежт помочь в сложении чисел, подсказать фильмы, музыку, игры. А так же создать список дел, и работать с ним\n",
            "Посоветуй фильм\n",
            "Я бы посоветовал вам: Оппенгеймер\n",
            "Посоветуй игру \n",
            "Я бы посоветовал вам: Marvels Spider-Man Remastered\n",
            "Посовеиту музыку\n",
            "Я бы посоветовал вам: The Rare Occasions - Notion\n",
            "+\n",
            "Введите числа: x x x x... 1 1 2 3 4 5 6 7 8 9 1\n"
          ]
        }
      ],
      "source": [
        "import random\n",
        "'''Основная часть'''\n",
        "print('Это Олег! И он тебе моежт помочь в сложении чисел, подсказать фильмы, музыку, игры. А так же создать список дел, и работать с ним') #Возможности\n",
        "in_p=[]\n",
        "while 'Хватит' not in in_p:\n",
        "  in_p = list(map(str,input().split())) #Ввод запроса от пользователя\n",
        "  '''Блок с списками'''\n",
        "  list_mus=['Смешарики - Обормот', 'Ed Sheeran, Travis Scott - Antisocial','Red Hot Chili Peppers - Californication','Eminem, Rihanna - The Monster','The Rare Occasions - Notion'] #Список песен\n",
        "  if ('музыку' in in_p) or ('музыка' in in_p): #Музыка\n",
        "    print('Я бы посоветовал вам:', list_mus[(random.randrange(0,5,1))])\n",
        "\n",
        "  list_mov=['Интерстеллар', 'Унесённые призраками', 'Оппенгеймер', 'Чудо', 'Тайна Коко'] #Список фильмов\n",
        "  if ('фильм' in in_p) or ('фильмы' in in_p): #Фильмы\n",
        "    print('Я бы посоветовал вам:', list_mov[(random.randrange(0,5,1))])\n",
        "\n",
        "  list_gam=['Minecraft','Lethal Company','Marvels Spider-Man Remastered','Red Dead Redemption 2','Atomic Heart'] #Список игр\n",
        "  if ('игру' in in_p) or ('игры' in in_p): #Игры\n",
        "    print('Я бы посоветовал вам:', list_gam[(random.randrange(0,5,1))])\n",
        "\n",
        "  '''Блок с числами'''\n",
        "  if ('+' in in_p) or ('сложить' in in_p) or ('сумму' in in_p) or ('суммы' in in_p): #Сложение\n",
        "    ch = list(map(int,input('Введите числа: x x x x... ').split()))\n",
        "    s1=sum(ch)\n",
        "    print('Сумма:', s1)\n",
        "\n",
        "  '''Блок с списком дел на сегодня'''\n",
        "  list_todo=[]\n",
        "  if ('список' in in_p) or ('дела' in in_p):\n",
        "    print(list_todo)\n",
        "\n",
        "  if ('добавить' in in_p) or ('внести' in in_p):\n",
        "    txt_todo=input('Введите саму задачу:')\n",
        "    print('Задача успешно добавлена!', list_todo)\n",
        "\n",
        "  if ('очистить' in in_p) or ('почисти' in in_p):\n",
        "    list_todo.clear()\n",
        "    print('Список дел очищен', list_todo)\n"
      ]
    },
    {
      "cell_type": "markdown",
      "metadata": {
        "id": "PHXBfyc6Ko7D"
      },
      "source": [
        "# **Задача 4.**\n"
      ]
    },
    {
      "cell_type": "markdown",
      "metadata": {
        "id": "jnKWeYleI0j6"
      },
      "source": [
        "Камень, ножницы, бумага\n",
        "\n",
        "Создайте игру в Камень, ножницы, бумагу, в которой пользователь может играть против компьютера. Программа должна запросить выбор пользователя, а затем сгенерировать выбор компьютера. Затем программа должна определить победителя на основе правил игры.\n",
        "\n",
        "**Этап 1:**\n",
        "\n",
        "Определение победителя\n",
        "\n",
        "**Этап 2:**\n",
        "  \n",
        "Игра до 3 побед\n",
        "\n",
        "\n",
        "Ввод для \"Этап 1\":\n",
        "\n",
        "```\n",
        "Камень\n",
        "```\n",
        "\n",
        "Вывод:\n",
        "\n",
        "```\n",
        "Компьютер: Ножницы\n",
        "Игрок: Камень\n",
        "Победа: Игрок\n",
        "```"
      ]
    },
    {
      "cell_type": "code",
      "execution_count": null,
      "metadata": {
        "colab": {
          "base_uri": "https://localhost:8080/"
        },
        "id": "ooIPCRe_JHkX",
        "outputId": "6ee7761e-6959-4d60-b9da-00791d04ccbc"
      },
      "outputs": [
        {
          "output_type": "stream",
          "name": "stdout",
          "text": [
            "Игрок: Камень\n",
            "Компютер:  Ножницы\n",
            "Победа: Игрок\n",
            "Игрок: Камень\n",
            "Компютер:  Ножницы\n",
            "Победа: Игрок\n",
            "Игрок: Камень\n",
            "Компютер:  Ножницы\n",
            "Победа: Игрок\n",
            "----------------------------------------------------------------------------------------------------\n",
            "Игрок выиграл!\n"
          ]
        }
      ],
      "source": [
        "import random\n",
        "def f1(n): #Перевод в числа\n",
        "  if n=='Камень':\n",
        "    n = 3\n",
        "    return n\n",
        "\n",
        "  if n=='Ножницы':\n",
        "    n = 2\n",
        "    return n\n",
        "\n",
        "  if n=='Бумага':\n",
        "    n = 1\n",
        "    return n\n",
        "\n",
        "def f2(n): #Перевод из чисел\n",
        "  if n == 3:\n",
        "    n='Камень'\n",
        "    return n\n",
        "\n",
        "  if n == 2:\n",
        "    n='Ножницы'\n",
        "    return n\n",
        "\n",
        "  if n == 1:\n",
        "    n='Бумага'\n",
        "    return n\n",
        "\n",
        "win = [] #Cписок побед\n",
        "\n",
        "while win.count('И')!=3 and win.count('К')<=2:\n",
        "  in_p = input('Игрок: ')\n",
        "  in_comp = random.randrange(1,3,1)\n",
        "  print('Компютер: ', f2(in_comp))\n",
        "\n",
        "  if f1(in_p)<int(in_comp):\n",
        "    print('Победа: Компьютер')\n",
        "    win.append('К')\n",
        "  elif (f1(in_p)==3 and in_comp==1):\n",
        "    print('Победа: Компьютер')\n",
        "    win.append('К')\n",
        "  elif (f1(in_p)==1 and in_comp==3):\n",
        "    print('Победа: Игрок')\n",
        "    win.append('И')\n",
        "  elif f1(in_p)==in_comp:\n",
        "    print('Победа: Ничья')\n",
        "  else:\n",
        "    print('Победа: Игрок')\n",
        "    win.append('И')\n",
        "print('-'*100)\n",
        "if win.count('К')>win.count('И'):\n",
        "  print('Компьютер выиграл!')\n",
        "elif win.count('К')==win.count('И'):\n",
        "  print('Ничья')\n",
        "else:\n",
        "  print('Игрок выиграл!')"
      ]
    },
    {
      "cell_type": "markdown",
      "metadata": {
        "id": "Hg4FJNFbLHQO"
      },
      "source": [
        "# **Задача 5.**"
      ]
    },
    {
      "cell_type": "markdown",
      "metadata": {
        "id": "OHqj3HJuLJgY"
      },
      "source": [
        "Создайте игру \"Палач\" или \"Виселица\", в которой пользователь должен угадать слово, предлагая буквы. Программа должна выбрать случайное слово, а затем разрешить пользователю угадывать буквы. После каждого угадывания программа должна сообщать пользователю, есть ли в слове буква или нет.\n",
        "\n",
        "**Этап 1**\n",
        "Создать саму игру (игра должна иметь привлекательный интерфейс, соотвесвующий классической висилице)\n",
        "\n",
        "**Этап 2:**\n",
        "Ввести подсчет количества очков и ограничения на попытки\n",
        "\n",
        "**Этап 3:** Добавить возможность сразу угадать слово"
      ]
    },
    {
      "cell_type": "code",
      "execution_count": null,
      "metadata": {
        "id": "0N2zCYwVLiIw",
        "colab": {
          "base_uri": "https://localhost:8080/"
        },
        "outputId": "32e11ac0-35f0-465c-b365-91029f1fcb6d"
      },
      "outputs": [
        {
          "output_type": "stream",
          "name": "stdout",
          "text": [
            "Загаданное слово состоит из 4 букв\n",
            "['_', '_', '_', '_']\n",
            "Введите букву:v\n",
            "Вы не угадали букву\n",
            "У вас -1 балла\n",
            "Загаданное слово состоит из 4 букв\n",
            "['_', '_', '_', '_']\n",
            "Введите букву:е\n",
            "Вы не угадали букву\n",
            "У вас -2 балла\n",
            "Загаданное слово состоит из 4 букв\n",
            "['_', '_', '_', '_']\n",
            "Введите букву:м\n",
            "Вы угадали букву :)\n",
            "У вас -1 балла\n",
            "Загаданное слово состоит из 4 букв\n",
            "['м', '_', '_', '_']\n",
            "Введите букву:ы\n",
            "Вы угадали букву :)\n",
            "У вас 0 балла\n",
            "Загаданное слово состоит из 4 букв\n",
            "['м', 'ы', '_', '_']\n",
            "Введите букву:ш\n",
            "Вы угадали букву :)\n",
            "У вас 1 балла\n",
            "Загаданное слово состоит из 4 букв\n",
            "['м', 'ы', 'ш', '_']\n",
            "Введите букву:ь\n",
            "Вы угадали букву :)\n",
            "У вас 2 балла\n",
            "Вы угадали слово: ['м', 'ы', 'ш', 'ь']\n"
          ]
        }
      ],
      "source": [
        "import random\n",
        "\n",
        "'''Выбор слова программой'''\n",
        "words_list = [['м','ы','ш','ь'],['е','л','к','а']] #Список загадываемых слов\n",
        "words =words_list[random.randint(0,len(words_list)-1)]\n",
        "words_letters = []\n",
        "for i in range(len(words)):\n",
        "  words_letters.append('_')\n",
        "\n",
        "'''Баллы и счет'''\n",
        "points = 0\n",
        "mistakes = 0\n",
        "\n",
        "'''Каракс игры'''\n",
        "while words_letters != words:\n",
        "  print('Загаданное слово состоит из',len(words), 'букв')\n",
        "  print(words_letters)\n",
        "  letter_p = list(map(str,input('Введите букву:').split()))  #Ввод буквы/слова пользователем\n",
        "\n",
        "  if len(letter_p)==1: #Если введено слово разбивает его на буквы\n",
        "    letter_p = list(str(letter_p[0]))\n",
        "\n",
        "  count_f = 0\n",
        "  for i in range(len(words)): #Перебор букв\n",
        "    for j in range(len(letter_p)):\n",
        "      if letter_p[j] == words[i]:\n",
        "        points+=1\n",
        "        words_letters[i] = str(letter_p[j])\n",
        "        print('Вы угадали букву :)')\n",
        "        print('У вас', points, 'балла')\n",
        "      else:\n",
        "        count_f+=1\n",
        "      if count_f==(len(words)):\n",
        "        print('Вы не угадали букву')\n",
        "        mistakes+=1\n",
        "        points-=1\n",
        "        print('У вас', points, 'балла')\n",
        "        count_f = count_f*0\n",
        "\n",
        "  if mistakes == 6 or letter_p == ['с','т','о','п']:\n",
        "    print('Попытки кончились')\n",
        "    break\n",
        "\n",
        "if words_letters == words:\n",
        "  print('Вы угадали слово:', words)"
      ]
    }
  ],
  "metadata": {
    "colab": {
      "provenance": []
    },
    "kernelspec": {
      "display_name": "Python 3",
      "name": "python3"
    },
    "language_info": {
      "name": "python"
    }
  },
  "nbformat": 4,
  "nbformat_minor": 0
}
