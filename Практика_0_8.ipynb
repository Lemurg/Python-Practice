{
  "nbformat": 4,
  "nbformat_minor": 0,
  "metadata": {
    "colab": {
      "provenance": [],
      "collapsed_sections": [
        "eecUb-akU1ji",
        "QGrsZrv5U1s8"
      ]
    },
    "kernelspec": {
      "name": "python3",
      "display_name": "Python 3"
    },
    "language_info": {
      "name": "python"
    }
  },
  "cells": [
    {
      "cell_type": "code",
      "source": [
        "pip install request"
      ],
      "metadata": {
        "colab": {
          "base_uri": "https://localhost:8080/"
        },
        "id": "yXLVmbwBTSyz",
        "outputId": "8dfcc9b4-c39b-45f8-d073-1147e1351631"
      },
      "execution_count": null,
      "outputs": [
        {
          "output_type": "stream",
          "name": "stdout",
          "text": [
            "\u001b[31mERROR: Could not find a version that satisfies the requirement request (from versions: none)\u001b[0m\u001b[31m\n",
            "\u001b[0m\u001b[31mERROR: No matching distribution found for request\u001b[0m\u001b[31m\n",
            "\u001b[0m"
          ]
        }
      ]
    },
    {
      "cell_type": "markdown",
      "source": [
        "# Задание 1"
      ],
      "metadata": {
        "id": "ra45s33wUt-C"
      }
    },
    {
      "cell_type": "markdown",
      "source": [
        "Задача: Создать чат бота для получения информации об исследованиях космоса\n",
        "\n",
        "Описание: Создайте комплексное приложение командной строки, которое будет использоваться в качестве панели управления исследованиями космоса. Данное приложение будет обращаться к https://api.nasa.gov/ для предоставления пользователям набора информации о космосе, включая:\n",
        "\n",
        "- Астрономическая картинка дня (APOD): Отображение APOD с пояснениями к нему.\n",
        "- Фотографии с марсохода: позволяет пользователям выбирать и фильтровать фотографии с марсохода по дате и типу камеры.\n",
        "- Объекты, сближающиеся с Землей (ОСЗ): Поиск и отображение информации об объекте, сближающихся с Землей, на определенную дату, включая их размеры и потенциальную опасность.\n",
        "- Данные о космической погоде: Отображают последние данные о космической погоде, включая солнечные вспышки и геомагнитные бури.\n",
        "Приложение должно позволять пользователям ориентироваться в этих функциях, корректно обрабатывать ошибки и обеспечивать удобство работы.\n",
        "\n",
        "Требования:\n",
        "- Пользовательский ввод: Приложение должно предложить пользователю ввести данные, чтобы выбрать, какую функцию он хочет изучить.\n",
        "- Проверка данных: Убедитесь, что пользовательские данные (например, даты) проверены.\n",
        "- Обработка ошибок: Корректно обрабатывайте ошибки API и неверные ответы.\n",
        "- Представление данных: Представляйте данные в четкой и организованной форме.\n",
        "- Опция выхода: позволяет пользователям выходить из приложения в любое время."
      ],
      "metadata": {
        "id": "G56D5mNCUwp5"
      }
    },
    {
      "cell_type": "markdown",
      "source": [
        "key: eimFDY02wAvM4AJhCNQrNuIdEqkGFPz4bBrmikOE"
      ],
      "metadata": {
        "id": "LE_3k0a3gwcx"
      }
    },
    {
      "cell_type": "code",
      "execution_count": null,
      "metadata": {
        "id": "wGeJM9n4UqUD",
        "colab": {
          "base_uri": "https://localhost:8080/"
        },
        "outputId": "48680a03-ebbb-440c-d288-df0ac34a8ac2"
      },
      "outputs": [
        {
          "output_type": "stream",
          "name": "stdout",
          "text": [
            "4\n",
            "Общие данные: ## Community Coordinated Modeling Center Database Of Notifications, Knowledge, Information ( CCMC DONKI )\n",
            "## Message Type: Auto-generated Space Weather Notification - Flare intensity has crossed the threshold of M5.0\n",
            "##\n",
            "## Message Issue Date: 2024-11-10T12:10:52Z\n",
            "## Message ID: 20241110-AL-001\n",
            "##\n",
            "## Disclaimer: NOAA's Space Weather Prediction Center is the United States Government official source for space weather forecasts. This \"Experimental Research Information\" consists of preliminary NASA research products and should be interpreted and used accordingly.\n",
            "\n",
            "\n",
            "## Summary:\n",
            " \n",
            "\n",
            "Significant flare detected by GOES.  Flare intensity has crossed the threshold of M5.0.\n",
            "\n",
            "Flare M5.0 crossing time: 2024-11-10T12:03Z. \n",
            "\n",
            "Increased energetic proton fluxes possible. Updates on this event will be provided when available.\n",
            "\n",
            "## Notes: \n",
            "\n",
            "\n",
            "\n",
            " \n",
            "\n",
            "Солнечные вспышки: {'1': ['Время начала:', '2024-11-07T01:15Z', 'Время конца:', '2024-11-07T01:39Z', 'Класс-тип:', 'M2.5'], '2': ['Время начала:', '2024-11-07T03:52Z', 'Время конца:', '2024-11-07T04:32Z', 'Класс-тип:', 'M2.5'], '3': ['Время начала:', '2024-11-07T07:20Z', 'Время конца:', '2024-11-07T07:36Z', 'Класс-тип:', 'M1.3'], '4': ['Время начала:', '2024-11-07T07:36Z', 'Время конца:', '2024-11-07T07:46Z', 'Класс-тип:', 'M1.6'], '5': ['Время начала:', '2024-11-07T07:46Z', 'Время конца:', '2024-11-07T08:01Z', 'Класс-тип:', 'M2.7'], '6': ['Время начала:', '2024-11-07T11:53Z', 'Время конца:', '2024-11-07T12:11Z', 'Класс-тип:', 'M1.4'], '7': ['Время начала:', '2024-11-07T14:49Z', 'Время конца:', '2024-11-07T15:20Z', 'Класс-тип:', 'M2.3'], '8': ['Время начала:', '2024-11-08T02:53Z', 'Время конца:', '2024-11-08T03:12Z', 'Класс-тип:', 'M1.5'], '9': ['Время начала:', '2024-11-09T20:44Z', 'Время конца:', '2024-11-09T20:54Z', 'Класс-тип:', 'M1.2'], '10': ['Время начала:', '2024-11-10T00:04Z', 'Время конца:', '2024-11-10T00:23Z', 'Класс-тип:', 'M4.2'], '11': ['Время начала:', '2024-11-10T11:51Z', 'Время конца:', '2024-11-10T12:14Z', 'Класс-тип:', 'M9.4']} \n",
            "\n",
            "Магнитные бури: {}\n"
          ]
        }
      ],
      "source": [
        "# @title Текст заголовка по умолчанию\n",
        "import requests as req\n",
        "from PIL import Image\n",
        "from IPython.display import display\n",
        "from datetime import datetime\n",
        "\n",
        "\n",
        "def send_request(url):\n",
        "    response = req.get(url)\n",
        "    if response.status_code == 200:\n",
        "        return response.json()\n",
        "    else:\n",
        "        print('Response code:', response.status_code)\n",
        "        None\n",
        "\n",
        "\n",
        "def main():\n",
        "    #Картинка дня\n",
        "    def image_today(data):\n",
        "        img_url = data['url']\n",
        "        response = req.get(img_url, stream=True).raw\n",
        "        img = Image.open(response)\n",
        "        display(img)\n",
        "        title = data['title']\n",
        "        body = data['explanation']\n",
        "        return f'{title}\\n \\n{body}'\n",
        "\n",
        "\n",
        "    #Картинка с Марсохода\n",
        "    def image_mars(data):\n",
        "        img_mars = data['photos'][0]['img_src']\n",
        "        response = req.get(img_mars, stream=True).raw\n",
        "        img = Image.open(response)\n",
        "        return display(img)\n",
        "\n",
        "\n",
        "    #Данные о небесных телах\n",
        "    def neows(data, date):\n",
        "        dict_neows = {}\n",
        "        for i in range(len(data['near_earth_objects'][str(date)])):\n",
        "            dict_neows[str(data['near_earth_objects'][str(date)][i]['name'])] = ['Миниимальный радиус(м):',data['near_earth_objects'][str(date)][i]\\\n",
        "              ['estimated_diameter']['meters']['estimated_diameter_min'], \\\n",
        "              'Максимальный радиус(м):', data['near_earth_objects'][str(date)]\\\n",
        "               [i]['estimated_diameter']['meters']['estimated_diameter_max'], \\\n",
        "              'Потенциальная опасность:', data['near_earth_objects'][str(date)]\\\n",
        "               [i]['is_potentially_hazardous_asteroid']]\n",
        "        return dict_neows\n",
        "\n",
        "\n",
        "    #Данные о погоде в космосе\n",
        "    def space_weather():\n",
        "        date = datetime.today()\n",
        "        day = date.day\n",
        "        month = date.month\n",
        "        year = date.year\n",
        "        url_all = f'https://api.nasa.gov/DONKI/notifications?&type=all&api_key=eimFDY02wAvM4AJhCNQrNuIdEqkGFPz4bBrmikOE'\n",
        "        message_all = send_request(url_all)[1]['messageBody']\n",
        "        url_solar = f'https://api.nasa.gov/DONKI/FLR?startDate={year}-{month}-{str(int(day)-3)}&endDate={year}-{month}-{day}&api_key=eimFDY02wAvM4AJhCNQrNuIdEqkGFPz4bBrmikOE'\n",
        "        message_solar = {}\n",
        "        number = 0\n",
        "        for i in range(len(send_request(url_solar))):\n",
        "            number+=1\n",
        "            message_solar[str(number)]=['Время начала:', send_request(url_solar)[i]['beginTime'], 'Время конца:', send_request(url_solar)[i]['endTime'],'Класс-тип:', send_request(url_solar)[i]['classType']]\n",
        "        url_geomagnetic = f'https://api.nasa.gov/DONKI/GST?startDate={year}-{month}-{str(int(day)-3)}&endDate={year}-{month}-{day}&api_key=eimFDY02wAvM4AJhCNQrNuIdEqkGFPz4bBrmikOE'\n",
        "        message_geomagnetic = {}\n",
        "        number1 = 0\n",
        "        for i in range(len(send_request(url_geomagnetic))):\n",
        "            number1+=1\n",
        "            message_geomagnetic[str(number1)] = ['Время начала:',send_request(url_geomagnetic)[i]['startTime'], 'Сила бури:', send_request(url_geomagnetic)[i]['allKpIndex'][0]['kpIndex']]\n",
        "        return print(f'Общие данные: {message_all} \\n\\nСолнечные вспышки: {message_solar} \\n\\nМагнитные бури: {message_geomagnetic}')\n",
        "\n",
        "\n",
        "    query = ''\n",
        "    while 'стоп' not in query:\n",
        "        query = list(map(str,input().split()))\n",
        "        if '1' in query:\n",
        "            data = send_request('https://api.nasa.gov/planetary/apod?api_key=eimFDY02wAvM4AJhCNQrNuIdEqkGFPz4bBrmikOE')\n",
        "            return image_today(data)\n",
        "\n",
        "        if '2' in query:\n",
        "            rover_in = input('Выберите Марсоход: \\n Curiosity \\n Opportunity \\n Spirit \\n')\n",
        "            type_cam = input('Выберите тип камеры: \\n FHAZ \\n RHAZ \\n MAST \\n')\n",
        "            date_earth = input('Введите дату в формате XXXX-YY-ZZ: \\n XXXX-год \\n YY-месяц \\n ZZ-день \\n')\n",
        "            url = f'https://api.nasa.gov/mars-photos/api/v1/rovers/{rover_in}/photos?earth_date={date_earth}&camera={type_cam}&api_key=eimFDY02wAvM4AJhCNQrNuIdEqkGFPz4bBrmikOE'\n",
        "            data = send_request(url)\n",
        "            return image_mars(data)\n",
        "\n",
        "        if '3' in query:\n",
        "            date_begin = input('Введите дату начала в формате XXXX-YY-ZZ: \\n XXXX-год \\n YY-месяц \\n ZZ-день \\n')\n",
        "            date_end = input('Введите дату окончания в формате XXXX-YY-ZZ: \\n XXXX-год \\n YY-месяц \\n ZZ-день \\n')\n",
        "            url = f'https://api.nasa.gov/neo/rest/v1/feed?start_date={date_begin}&e\\\n",
        "            nd_date={date_end}&api_key=eimFDY02wAvM4AJhCNQrNuIdEqkGFPz4bBrmikOE'\n",
        "            data = send_request(url)\n",
        "            return neows(data, date_begin)\n",
        "\n",
        "        if '4' in query:\n",
        "            return space_weather()\n",
        "\n",
        "\n",
        "if __name__ == '__main__':\n",
        "    main()"
      ]
    },
    {
      "cell_type": "markdown",
      "source": [
        "# Задание 2"
      ],
      "metadata": {
        "id": "ia9UtA0cU1Iy"
      }
    },
    {
      "cell_type": "markdown",
      "source": [
        "Описание задачи\n",
        "\n",
        "Цель этой задачи - создать скрипт на Python, который взаимодействует с API Чикагского института искусств (https://api.artic.edu/docs/) для извлечения и отображения произведений искусства. Скрипт должен позволять пользователям просматривать работы по страницам, фильтровать их по имени художника и просматривать подробную информацию о выбранных произведениях искусства. Ниже приведены требования и функциональные возможности, которые необходимо реализовать:\n",
        "\n",
        "Требования:\n",
        "Извлекать произведения искусства:\n",
        "\n",
        "- Создайте функцию, которая извлекает список произведений искусства из API Чикагского института искусств.\n",
        "Функция должна принимать параметр page для разбивки на страницы и возвращать список произведений искусства вместе с информацией о разбивке на страницы.\n",
        "Фильтровать произведения искусства:\n",
        "\n",
        "- Реализуйте функцию, которая фильтрует список произведений искусства на основе имени указанного художника. Функция должна возвращать список работ, которые соответствуют имени художника (без учета регистра).\n",
        "Отображать подробную информацию об оформлении:\n",
        "\n",
        "- Напишите функцию, которая отображает названия работ для пользователя и позволяет ему выбрать одну из них, введя соответствующий номер.\n",
        "После выбора функция должна отображать подробную информацию о выбранном произведении, включая название, исполнителя, дату и носитель.\n",
        "Разбивка на страницы и взаимодействие с пользователем:\n",
        "\n",
        "- Создайте основную функцию, которая управляет выборкой произведений и взаимодействием с пользователем.\n",
        "\n",
        "Разрешите пользователям перемещаться по страницам с произведениями искусства, выполнять фильтрацию по исполнителю или выходить из программы.\n",
        "\n",
        "Если страниц с произведениями искусства несколько, укажите варианты перехода к следующей странице, предыдущей странице, фильтрации по исполнителю или выхода из программы."
      ],
      "metadata": {
        "id": "Ofu_GmqrU1Iy"
      }
    },
    {
      "cell_type": "code",
      "execution_count": null,
      "metadata": {
        "id": "jjUH1GznU1Iy",
        "colab": {
          "base_uri": "https://localhost:8080/",
          "height": 125
        },
        "outputId": "e6874a5a-4faf-4443-99f1-5c1c5602470b"
      },
      "outputs": [
        {
          "output_type": "stream",
          "name": "stdout",
          "text": [
            "1\n",
            "Введите страницу: 2\n",
            "{'1': 'The USSR in Construction (SSSR na stroike)', '2': 'Walt Whitman in Camden', '3': 'We Live [Žijeme]', '4': 'Pásmo [Zone or Reel]', '5': 'Lef (Left Front of the Arts)', '6': 'Emilie prichází ke mne ve snu (Emilie Comes To Me In A Dream)', '7': 'Koruna (Crown)', '8': \"A.I.Z. (Workers' Illustrated Magazine)\", '9': 'The Industry of Socialism (Industriia sotsializma)', '10': 'Union of Soviet Socialist Republics:  Catalogue of the Soviet Pavilion at the International Press Exhibition, Cologne (\"Pressa\") [Union der Sozialistischen Sowjet-Republiken:  Katalog des Sowjet-Pavillons auf der Internationalen Presse-Ausstellung, Köln (\"Pressa\")', '11': \"Ubu cocu, restitué en son intégrité tel qu'il a été représenté par les marionnettes du Théâtre des Phynances: Cinq actes\", '12': 'Le surmâle: Roman moderne'}\n",
            "None\n"
          ]
        },
        {
          "output_type": "execute_result",
          "data": {
            "text/plain": [
              "'1'"
            ],
            "application/vnd.google.colaboratory.intrinsic+json": {
              "type": "string"
            }
          },
          "metadata": {},
          "execution_count": 23
        }
      ],
      "source": [
        "import requests as req\n",
        "\n",
        "def send_request(url):\n",
        "    response = req.get(url)\n",
        "    if response.status_code == 200:\n",
        "        return response.json()\n",
        "    else:\n",
        "        print('Response code:', response.status_code)\n",
        "        None\n",
        "\n",
        "\n",
        "def main():\n",
        "    def list_art(data):\n",
        "        number = 0\n",
        "        dict_art = {}\n",
        "        list_art = []\n",
        "\n",
        "        for i in range(len(data['data'])):\n",
        "            list_art.append(data['data'][i]['title'])\n",
        "\n",
        "        for j in list_art:\n",
        "            number+=1\n",
        "            dict_art[str(number)] = j\n",
        "        print(dict_art)\n",
        "\n",
        "\n",
        "    def sort_list(data):\n",
        "        dict_art = {}\n",
        "        list_name_artist = []\n",
        "        list_art = []\n",
        "        number = 0\n",
        "        for i in range(len(data['data'])):\n",
        "            list_name_artist.append(data['data'][i]['artist_display'])\n",
        "        list_name_artist = sorted(list_name_artist)\n",
        "\n",
        "        for name in list_name_artist:\n",
        "            for l in range(len(data['data'])):\n",
        "                if name == data['data'][l]['artist_display']:\n",
        "                    list_art.append(data['data'][l]['title'])\n",
        "\n",
        "        for j in list_art:\n",
        "            number+=1\n",
        "            dict_art[str(number)] = j\n",
        "        print(dict_art)\n",
        "\n",
        "\n",
        "    def information_art(dict_art, number, data):\n",
        "        information = {}\n",
        "        for k in dict_art.keys():\n",
        "            if k == str(number):\n",
        "                key = k\n",
        "        print(data['data'][int(number)-1]['title'])\n",
        "        print(data['data'][int(number)-1]['artist_display'])\n",
        "        print(data['data'][int(number)-1]['date_display'])\n",
        "\n",
        "    query = input()\n",
        "\n",
        "    if '1' in query:\n",
        "        page = input('Введите страницу: ')\n",
        "        data = send_request(f'https://api.artic.edu/api/v1/artworks?page={page}')\n",
        "        print(list_art(data))\n",
        "\n",
        "    if '2' in query:\n",
        "        page = input('Введите страницу: ')\n",
        "        data = send_request(f'https://api.artic.edu/api/v1/artworks?page={page}')\n",
        "        print(sort_list(data))\n",
        "\n",
        "    if '3' in query:\n",
        "        page = input('Введите страницу: ')\n",
        "        data = send_request(f'https://api.artic.edu/api/v1/artworks?page={page}')\n",
        "        data_1 = list_art(data)\n",
        "        print(data_1)\n",
        "        number = input('Введите номер произведения: ')\n",
        "        print(information_art(data_1, number, data))\n",
        "\n",
        "\n",
        "if __name__ == '__main__':\n",
        "    main()"
      ]
    },
    {
      "cell_type": "markdown",
      "source": [
        "# Задание 3"
      ],
      "metadata": {
        "id": "eecUb-akU1ji"
      }
    },
    {
      "cell_type": "markdown",
      "source": [
        "Задача: Создать программу по управлению портфелем криптовалют\n",
        "\n",
        "Цель: Создать скрипт на Python, который извлекает цены на криптовалюты в режиме реального времени, позволяет пользователям управлять портфелем криптовалют, вычисляет общую стоимость портфеля, отслеживает изменения цен и предоставляет исторические данные о ценах для анализа.\n",
        "\n",
        "Требования:\n",
        "Получение текущих цен на криптовалюты:\n",
        "\n",
        "Используйте https://docs.coingecko.com/ для получения актуальных цен на список криптовалют.\n",
        "\n",
        "Управление портфелем:\n",
        "\n",
        "- Позволяет пользователю создавать портфель криптовалют и управлять им, указывая количество каждой криптовалюты, которой он владеет.\n",
        "- Расчитывает общую стоимость портфеля в указанной фиатной валюте (например, долларах США).\n",
        "\n",
        "Отслеживание изменения цен:\n",
        "\n",
        "- Отображение процентного изменения цены для каждой криптовалюты в портфеле за последние 24 часа.\n",
        "- Выделите все криптовалюты, стоимость которых значительно увеличилась или снизилась.\n",
        "\n",
        "Поиск исторических данных о ценах:\n",
        "\n",
        "- Получение исторических данных о ценах на указанную криптовалюту за последнюю неделю.\n",
        "- Предоставьте пользователю возможность визуализировать эти данные в простом текстовом формате (например, цены за день).\n",
        "\n",
        "Взаимодействие с пользователем:\n",
        "\n",
        "- Реализуйте интерфейс командной строки для ввода данных пользователем.\n",
        "- Предоставьте опции для получения текущих цен, управления портфелем, просмотра изменений цен или анализа исторических данных.\n"
      ],
      "metadata": {
        "id": "jsK7IKptU1ji"
      }
    },
    {
      "cell_type": "code",
      "source": [
        "def requests as req\n",
        "\n",
        "def send_request(url):\n",
        "    responce = req.get(url)\n",
        "    if response.status_code == 200:\n",
        "        return responce.json()\n",
        "    else:\n",
        "        print('Responce code:', responce.status_code)\n",
        "        None\n",
        "\n"
      ],
      "metadata": {
        "id": "_0DToTqlvywa"
      },
      "execution_count": null,
      "outputs": []
    },
    {
      "cell_type": "markdown",
      "source": [
        "# Дополнительно: Задание 4"
      ],
      "metadata": {
        "id": "QGrsZrv5U1s8"
      }
    },
    {
      "cell_type": "markdown",
      "source": [
        "Задание 4: Проектное\n",
        "\n",
        "Вам необходимо самостоятельно найти откртое API предоставляющее информацию в открытом доступе и реализовать собственный проект!\n",
        "\n",
        "\n",
        "Критерии приемки результата:\n",
        "\n",
        "- Проект включает в себя не менее 5 возможостей для пользователя\n",
        "- Проект позволяет использовать все возможности проекта пользователю при помощи взаимодействия через коммандную строку\n",
        "- Проект работает с открытым API (это значит что при проверке вашей работы преподавателем, преподавателю необходимо просто запустить ячейку с кодом вашего проекта и она будет работать без дополнительных манипуляции)\n",
        "- Проект должен обязательно включать в себя ряд используемых конструкции:\n",
        "    - Функции\n",
        "    - Условные конструкции\n",
        "    - Ввод/вывод\n",
        "    - Словари/Списки\n",
        "- Допускается использование библиотек:\n",
        "    - requests\n",
        "    - datetime\n",
        "    - random"
      ],
      "metadata": {
        "id": "qs_XITmYU1s8"
      }
    },
    {
      "cell_type": "markdown",
      "source": [
        "**Здесь добавьте описание вашего проекта**"
      ],
      "metadata": {
        "id": "VKXhaJi4FL0B"
      }
    },
    {
      "cell_type": "code",
      "execution_count": null,
      "metadata": {
        "id": "wiA55k1KU1s8"
      },
      "outputs": [],
      "source": [
        "#  А здесь код"
      ]
    }
  ]
}