{
  "nbformat": 4,
  "nbformat_minor": 0,
  "metadata": {
    "colab": {
      "provenance": []
    },
    "kernelspec": {
      "name": "python3",
      "display_name": "Python 3"
    },
    "language_info": {
      "name": "python"
    }
  },
  "cells": [
    {
      "cell_type": "markdown",
      "source": [
        "# Основы"
      ],
      "metadata": {
        "id": "HPwKiIA4EKO-"
      }
    },
    {
      "cell_type": "markdown",
      "source": [
        "Задание 1: Напиши программу, выводящую на экран сообщение \"Привет, мир!\""
      ],
      "metadata": {
        "id": "8po5IidFERZ8"
      }
    },
    {
      "cell_type": "code",
      "execution_count": null,
      "metadata": {
        "id": "sBRjlCVLEIQr"
      },
      "outputs": [],
      "source": [
        "print('Привет, мир')"
      ]
    },
    {
      "cell_type": "markdown",
      "source": [
        "Задание 2: Напиши программу которая запрашивает имя пользователя и выводит сообщение:\n",
        "\n",
        "`Привет, <Имя пользователя>`"
      ],
      "metadata": {
        "id": "pUQIIo94EYLg"
      }
    },
    {
      "cell_type": "code",
      "source": [
        "name=input()\n",
        "print('Привет,', name)"
      ],
      "metadata": {
        "id": "nNwHKmAnEinH",
        "colab": {
          "base_uri": "https://localhost:8080/"
        },
        "outputId": "905544b8-82d9-45a6-b8bd-52d0dae9d45f"
      },
      "execution_count": null,
      "outputs": [
        {
          "output_type": "stream",
          "name": "stdout",
          "text": [
            "Саша\n",
            "Привет Саша\n"
          ]
        }
      ]
    },
    {
      "cell_type": "markdown",
      "source": [
        "Задание 3: Напиши программу определяющую является ли число четным или нечетным:\n",
        "\n",
        "Пример:\n",
        "\n",
        "`Введите число:` 2\n",
        "\n",
        "`Ваше число четное!`"
      ],
      "metadata": {
        "id": "SAUm9W6_Etkh"
      }
    },
    {
      "cell_type": "code",
      "source": [
        "a = int(input('Введите число:'))\n",
        "if a%2==0:\n",
        "  print('Число:', a,'четное')\n",
        "else:\n",
        "  print('Число:', a,'нечетное')"
      ],
      "metadata": {
        "id": "LXv7AIN1E4on",
        "colab": {
          "base_uri": "https://localhost:8080/"
        },
        "outputId": "0c72ff9a-2f02-4d12-f59c-6177e97266ca"
      },
      "execution_count": null,
      "outputs": [
        {
          "output_type": "stream",
          "name": "stdout",
          "text": [
            "Введите число:3\n",
            "Число: 3 нечетное\n"
          ]
        }
      ]
    },
    {
      "cell_type": "markdown",
      "source": [
        "Задание 4: Напишите программу которая запрашивает длинну и ширину прямоугольника и выводит его площадь:\n",
        "\n",
        "\n",
        "\n",
        "`Введите длинну прямоугольника:`\n",
        "\n",
        "`Введите ширину прямоугольника:`\n",
        "\n",
        "`Площадь прямоугольника: `\n",
        "\n"
      ],
      "metadata": {
        "id": "OW1Y5KyUE_n9"
      }
    },
    {
      "cell_type": "code",
      "source": [
        "a = int(input('Введите длинну прямоугольника:'))\n",
        "b = int(input('Введите ширину прямоугольника:'))\n",
        "s = a*b\n",
        "print('Площадь прямоугольника:', s)"
      ],
      "metadata": {
        "id": "Bu5iawknFbXP",
        "colab": {
          "base_uri": "https://localhost:8080/"
        },
        "outputId": "d965706c-eed6-4972-b1f1-90128bc2c302"
      },
      "execution_count": null,
      "outputs": [
        {
          "output_type": "stream",
          "name": "stdout",
          "text": [
            "Введите длинну прямоугольника:5\n",
            "Введите ширину прямоугольника:5\n",
            "Площадь прямоугольника: 25\n"
          ]
        }
      ]
    },
    {
      "cell_type": "markdown",
      "source": [
        "Задание 5: Напишите программу, которая будет вычислять среднее арифметическое введенных чисел"
      ],
      "metadata": {
        "id": "xj8_QNLsFfLw"
      }
    },
    {
      "cell_type": "code",
      "source": [
        "a = list(map(int, input().split())) #Вводить числа через пробел\n",
        "b=0\n",
        "for i in range(len(a)):\n",
        "    b+=int(a[i])\n",
        "print(b//len(a))"
      ],
      "metadata": {
        "id": "omumX59JFoKw",
        "colab": {
          "base_uri": "https://localhost:8080/"
        },
        "outputId": "8caefeec-43f7-4aae-b51d-21e34acb2773"
      },
      "execution_count": null,
      "outputs": [
        {
          "output_type": "stream",
          "name": "stdout",
          "text": [
            "7 21 137 244 532 763 800 1234\n",
            "467\n"
          ]
        }
      ]
    },
    {
      "cell_type": "markdown",
      "source": [
        "Задание 6: Напиши программу, которая бы определяла является ли год високосным"
      ],
      "metadata": {
        "id": "qHXcBMUJcP91"
      }
    },
    {
      "cell_type": "code",
      "source": [
        "a = int(input('Введите год:'))\n",
        "if a%400==0 and a%100==0:\n",
        "  print(a,'год високосный')\n",
        "else:\n",
        "  if a%100==0:\n",
        "    print(a,'год не високосный')\n",
        "  else:\n",
        "    if a%4==0 and a%100!=0:\n",
        "      print(a,'год високосный')\n",
        "    else:\n",
        "      print(a,'год не високосный')"
      ],
      "metadata": {
        "id": "5zIg47mwcKKr",
        "colab": {
          "base_uri": "https://localhost:8080/"
        },
        "outputId": "553e044d-c7e3-4cfd-b2b1-434941a5efcf"
      },
      "execution_count": null,
      "outputs": [
        {
          "output_type": "stream",
          "name": "stdout",
          "text": [
            "Введите год:1900\n",
            "1900 год не високосный\n"
          ]
        }
      ]
    },
    {
      "cell_type": "markdown",
      "source": [
        "Задание 7: Необходимо создать простой калькулятор, который позволяет пользователю выбрать одну из четырёх операций (+, -, *, /), ввести два числа и получить результат выполнения операции."
      ],
      "metadata": {
        "id": "CYaQ69kucdhj"
      }
    },
    {
      "cell_type": "code",
      "source": [
        "a = str(input('Выберите операцию:'))\n",
        "b = int(input('Введите число 1:'))\n",
        "c = int(input('Введите число 2:'))\n",
        "if a=='+':\n",
        "  sums=b+c\n",
        "  print(sums)\n",
        "if a=='-':\n",
        "  mins=b-c\n",
        "  print(mins)\n",
        "if a=='*':\n",
        "  sloz=b*c\n",
        "  print(sloz)\n",
        "if a=='/':\n",
        "  deli=b//c\n",
        "  print(deli)"
      ],
      "metadata": {
        "id": "wR5UyEf7ciIE",
        "colab": {
          "base_uri": "https://localhost:8080/"
        },
        "outputId": "4d1be5e8-e64b-4b6b-9df4-cf251a0f80b5"
      },
      "execution_count": null,
      "outputs": [
        {
          "output_type": "stream",
          "name": "stdout",
          "text": [
            "Выберите операцию:+\n",
            "Введите число 1:1\n",
            "Введите число 2:2\n",
            "3\n"
          ]
        }
      ]
    },
    {
      "cell_type": "markdown",
      "source": [
        "--------------------------------------------------------------------------------\n",
        "\n",
        "**Да, задания ниже тоже обязательны, вам необходимо выполнить веееееесь файл**\n",
        "\n",
        "--------------------------------------------------------------------------------\n"
      ],
      "metadata": {
        "id": "PcJ66hI-vAlk"
      }
    },
    {
      "cell_type": "markdown",
      "source": [
        "# Практика 0.2.1"
      ],
      "metadata": {
        "id": "XWBhGpdEFo-U"
      }
    },
    {
      "cell_type": "markdown",
      "source": [
        "**Шахматы**\n",
        "\n",
        "Даны стартовые и конечные координаты, а также фигура\n",
        "\n",
        "Необходимо определить, может ли заданная фигура так ходить?"
      ],
      "metadata": {
        "id": "9Lw9odpqFwtn"
      }
    },
    {
      "cell_type": "code",
      "source": [
        "fig = int(input('Веберите фигуру 1.Король 2.Ферзь 3.Ладья 4.Слон 5.Конь 6.Пешка '))\n",
        "x1,y1=list(map(int,input('Начальные кординаты, x y:').split()))\n",
        "x2,y2=list(map(int,input('Конечные кординаты, x y:').split()))\n",
        "def rastxP(z1, z2):\n",
        "  a=[]\n",
        "  if 8-z1<=7:\n",
        "    for i in range(1,abs(8-z1)+1):\n",
        "      a.append(i*1)\n",
        "  for i in range(len(a)):\n",
        "    if (z1+a[i])==z2:\n",
        "        return True\n",
        "def rastxM(z1):\n",
        "  a=[]\n",
        "  if 8-z1<=7:\n",
        "    for i in range(1,abs(8-z1-2)):\n",
        "      a.append(i*1)\n",
        "  for i in range(len(a)):\n",
        "    if (z1+a[i])==z2:\n",
        "        return True\n",
        "if fig==1:\n",
        "  if (x2==x1+1 and y2==y1+1) or (x2==x1+1  and y2==y1) or (x2==x1+1 and y2==y1-1) \\\n",
        "   or (x2==x1-1 and y2==y1+1) or (x2==x1-1  and y2==y1) or (x2==x1-1 and y2==y1-1)\\\n",
        "   or (x2==x1 and y2==y1-1) or (x2==x1 and y2==y1+1):\n",
        "    print('Можно')\n",
        "  else:\n",
        "    print('Нельзя')\n",
        "if fig==5:\n",
        "  if (x2==x1+2 and y2==y1+1) or (x2==x1+1 and y2==y1+2) or (x2==x1-2 and y2==y1+1)\\\n",
        "   or (x2==x1+2 and y2==y1-1) or (x2==x1-2 and y2==y1-1) or (x2==x1-1 and y2==y1-2)\\\n",
        "   or (x2==x1-1 and y2==y1+2) or (x2==x1-2 and y2==y1+1):\n",
        "    print('Можно')\n",
        "  else:\n",
        "    print('Нельзя')\n",
        "if fig==6:\n",
        "  if (x2==x1 and y2==y1+1):\n",
        "    print('Можно')\n",
        "  else:\n",
        "    print('Нельзя')\n",
        "if fig==3:\n",
        "  if (rastxP(x1,x2) and y2==y1) or (rastxM(x1,x2) and y2==y1) or (rastxP(y1,y2) and x2==x1) or (rastxM(y1,y2) and x2==x1):\n",
        "    print('Можно')\n",
        "  else:\n",
        "    print('Нельзя')\n",
        "\n"
      ],
      "metadata": {
        "id": "9IICo0p3F07P",
        "colab": {
          "base_uri": "https://localhost:8080/"
        },
        "outputId": "1c3edc77-e101-4122-c14b-f3650f2c60cd"
      },
      "execution_count": null,
      "outputs": [
        {
          "output_type": "stream",
          "name": "stdout",
          "text": [
            "Веберите фигуру 1.Король 2.Ферзь 3.Ладья 4.Слон 5.Конь 6.Пешка 6\n",
            "Начальные кординаты, x y:1 1\n",
            "Конечные кординаты, x y:1 2\n",
            "Можно\n"
          ]
        }
      ]
    },
    {
      "cell_type": "markdown",
      "source": [
        "# Практика 0.2.2\n",
        "\n",
        "**Цифра на определенном месте:**\n",
        "\n",
        "Последовательно записан натуральный ряд чисел.\n",
        "\n",
        "Какая цифра стоит в N позиции"
      ],
      "metadata": {
        "id": "wI5bLNpHGDmO"
      }
    },
    {
      "cell_type": "code",
      "source": [
        "a = list(map(int,input().split()))\n",
        "b = int(input())\n",
        "s=''\n",
        "for i in range(len(a)):\n",
        "  s=s+str(a[i])\n",
        "print(s[b-1])"
      ],
      "metadata": {
        "id": "XLm_zFGzGNsU",
        "colab": {
          "base_uri": "https://localhost:8080/"
        },
        "outputId": "c7393739-85a4-4e94-c082-84085ffe6c10"
      },
      "execution_count": null,
      "outputs": [
        {
          "output_type": "stream",
          "name": "stdout",
          "text": [
            "73737272726626 73473626 646467 667474\n",
            "18\n",
            "7\n"
          ]
        }
      ]
    }
  ]
}