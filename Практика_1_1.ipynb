{
  "nbformat": 4,
  "nbformat_minor": 0,
  "metadata": {
    "colab": {
      "provenance": [],
      "collapsed_sections": [
        "F7mRVsZjCXk0"
      ]
    },
    "kernelspec": {
      "name": "python3",
      "display_name": "Python 3"
    },
    "language_info": {
      "name": "python"
    }
  },
  "cells": [
    {
      "cell_type": "markdown",
      "source": [
        "**ФИО:**"
      ],
      "metadata": {
        "id": "GEsFKJm-ABFp"
      }
    },
    {
      "cell_type": "code",
      "execution_count": null,
      "metadata": {
        "id": "wZMLYG_G_-19"
      },
      "outputs": [],
      "source": [
        "Головко Александр Денисович"
      ]
    },
    {
      "cell_type": "markdown",
      "source": [
        "# Задание 1"
      ],
      "metadata": {
        "id": "H4DrYnJjADuZ"
      }
    },
    {
      "cell_type": "markdown",
      "source": [
        "**Описание:** Создайте иерархию классов для разных типов сотрудников в компании. Реализуйте родительский класс Employee и дочерние классы Manager и Developer. Каждый класс должен иметь метод для расчета зарплаты на основе различных критериев класса.\n",
        "\n",
        "\n",
        "Отрабатываемый принцип: Наследование\n",
        "\n"
      ],
      "metadata": {
        "id": "C17FWep-AF4a"
      }
    },
    {
      "cell_type": "code",
      "source": [
        "class Employee:\n",
        "    def __init__(self, _pass_):\n",
        "        self.manager = 1.2\n",
        "        self.developer = 1.4\n",
        "\n",
        "\n",
        "class Manager(Employee):\n",
        "    def __init__(self, hours):\n",
        "        super().__init__(0)\n",
        "        self.hours = hours\n",
        "        self.salary = float(self.hours) * (self.manager)\n",
        "        print(f'Ваша зарплата за {self.hours} часов, состовляет {self.salary} тыс. руб')\n",
        "\n",
        "\n",
        "class Developer(Employee):\n",
        "    def __init__(self, hours):\n",
        "        super().__init__(0)\n",
        "        self.hours = hours\n",
        "        self.salary = float(self.hours) * (self.developer)\n",
        "        print(f'Ваша зарплата за {self.hours} часов, состовляет {self.salary} тыс. руб')\n",
        "\n",
        "Developer(30)"
      ],
      "metadata": {
        "id": "aexGXzqCAFH7",
        "colab": {
          "base_uri": "https://localhost:8080/"
        },
        "outputId": "b5fdeb4e-9ca9-4f2a-a81d-d9dbba1f5ccb"
      },
      "execution_count": null,
      "outputs": [
        {
          "output_type": "stream",
          "name": "stdout",
          "text": [
            "Ваша зарплата за 30 часов, состовляет 42.0 тыс. руб\n"
          ]
        },
        {
          "output_type": "execute_result",
          "data": {
            "text/plain": [
              "<__main__.Developer at 0x78406e5656c0>"
            ]
          },
          "metadata": {},
          "execution_count": 21
        }
      ]
    },
    {
      "cell_type": "markdown",
      "source": [
        "# Задание 2"
      ],
      "metadata": {
        "id": "ERAi0TG5BI6v"
      }
    },
    {
      "cell_type": "markdown",
      "source": [
        "**Описание:** Создайте иерархию классов для различных типов транспортных средств (Необходим один родительский класс и 3 дочерних). Реализуйте метод, который позволяет каждому транспортному средству возвращать собственное описание (Метод в каждом классе должен иметь одинаковое название). Продемонстрируйте вызов данного метода для каждого транспортного средства.\n",
        "\n",
        "\n",
        "Отрабатываемый принцип: Полиморфизм"
      ],
      "metadata": {
        "id": "sJ3k7ZcgBK87"
      }
    },
    {
      "cell_type": "code",
      "source": [
        "class Transport:\n",
        "    def describe(self):\n",
        "        return \"Общественный транспорт — это система пассажирских перевозок по заранее установленным маршрутам. Основные виды: автобусы, трамваи, метро, маршрутки\"\n",
        "\n",
        "class Bus(Transport):\n",
        "    def describe(self):\n",
        "        return \"Автобус - это вид общественного транспорта, предназначенный для перевозки 9 и более пассажиров по установленным маршрутам.\"\n",
        "\n",
        "class Tram(Transport):\n",
        "    def describe(self):\n",
        "        return \"Трамвай - это наземный электрический транспорт, являющийся одним из старейших видов городского транспорта.\"\n",
        "\n",
        "class Trolleybus(Transport):\n",
        "    def describe(self):\n",
        "        return \"Троллейбус - это вид общественного транспорта, который использует электрические провода для движения, сочетая преимущества автобуса и трамвая.\"\n",
        "\n",
        "bus = Bus()\n",
        "tram = Tram()\n",
        "trolleybus = Trolleybus()\n",
        "\n",
        "print(bus.describe())\n",
        "print(tram.describe())\n",
        "print(trolleybus.describe())"
      ],
      "metadata": {
        "id": "WOFOZQmDBKf4",
        "colab": {
          "base_uri": "https://localhost:8080/"
        },
        "outputId": "2f690bdb-1f2b-497e-a27a-449b59508fee"
      },
      "execution_count": null,
      "outputs": [
        {
          "output_type": "stream",
          "name": "stdout",
          "text": [
            "Автобус - это вид общественного транспорта, предназначенный для перевозки 9 и более пассажиров по установленным маршрутам.\n",
            "Трамвай - это наземный электрический транспорт, являющийся одним из старейших видов городского транспорта.\n",
            "Троллейбус - это вид общественного транспорта, который использует электрические провода для движения, сочетая преимущества автобуса и трамвая.\n"
          ]
        }
      ]
    },
    {
      "cell_type": "markdown",
      "source": [
        "# Задание 3"
      ],
      "metadata": {
        "id": "7E_SJXMJBvD4"
      }
    },
    {
      "cell_type": "markdown",
      "source": [
        "Онлайн-магазин:\n",
        "- Создайте модель для онлайн-магазина с классами Product, Order, Customer, и ShoppingCart.\n",
        "- Product включает информацию о цене, наличии на складе и категории товара.\n",
        "Order обрабатывает процесс покупки, включая расчет цены с учетом скидок и налогов.\n",
        "- Customer управляет информацией о пользователе и его истории заказов.\n",
        "- ShoppingCart позволяет добавлять, удалять и обновлять количество товаров перед оформлением заказа.\n"
      ],
      "metadata": {
        "id": "dd1mwKj_BxHa"
      }
    },
    {
      "cell_type": "code",
      "source": [
        "class Product:\n",
        "    def __init__(self, name, price, category, presence):\n",
        "        self.name = name\n",
        "        self.price = int(price)\n",
        "        self.category = category\n",
        "        self.presence = presence\n",
        "\n",
        "class Order(Product):\n",
        "    def __init__(self, name, price, category, presence):\n",
        "        super().__init__(name, price, category, presence)\n",
        "\n",
        "        tax = 5//100\n",
        "        sale = int(input('Введите размер скидки (%): '))\n",
        "        self.sale = (sale/100)\n",
        "        self.in_all = (self.price * tax) + (self.price - (self.price * self.sale))\n",
        "        print(f'С учетом налогов и скидки ({sale}%) стоимость {self.name}, состовляет {self.in_all}$')\n",
        "\n",
        "class Customer(Order):\n",
        "    def __init__(self, id, user_name):\n",
        "        self.id = id\n",
        "        self.user_name = user_name\n",
        "        self.order_history = {'id': self.id, 'history': {}}\n",
        "\n",
        "    def history(self, name, price, category, presence):\n",
        "        super().__init__(name, price, category, presence)\n",
        "\n",
        "        history = self.order_history['history']\n",
        "        history[self.name] = {'price': self.price,\n",
        "                              'price_buy': self.in_all,\n",
        "                              'sale': self.sale*100,\n",
        "                              'category': self.category}\n",
        "\n",
        "        print(self.order_history)\n",
        "\n",
        "class ShoppingCart(Customer):\n",
        "    def __init__(self, id_cart, id, user_name):\n",
        "        super().__init__(id, user_name)\n",
        "        self.id_cart = id_cart\n",
        "        self.cart = {'id_user': self.id, 'id_cart': self.id_cart, 'cart': {}}\n",
        "\n",
        "    def add_cart(self, name, price, category, presence):\n",
        "        prod = Product(name, price, category, presence)\n",
        "        self.cart['cart']['name'] = prod.name\n",
        "        self.cart['cart']['price'] = prod.price\n",
        "        self.cart['cart']['category'] = prod.category\n",
        "        self.cart['cart']['presence'] = prod.presence\n",
        "        print('Товар был добавлен в корзину')\n",
        "\n",
        "    def del_cart(self, name):\n",
        "        del self.cart['cart'][str(name)]\n",
        "        print('Товар был убран из корзины')\n",
        "\n",
        "\n",
        "user1 = ShoppingCart(1, 11, 'Alex')\n",
        "user1.add_cart('IPhone 13', 999, 'Phone', 2)"
      ],
      "metadata": {
        "id": "wkCcv_K-Bwdv"
      },
      "execution_count": null,
      "outputs": []
    },
    {
      "cell_type": "markdown",
      "source": [
        "# Задание 4"
      ],
      "metadata": {
        "id": "ih7iPlYfB7lL"
      }
    },
    {
      "cell_type": "markdown",
      "source": [
        "Симулятор космического корабля:\n",
        "- Создайте симулятор управления космическим кораблем с классами SpaceShip, CrewMember, и Mission.\n",
        "- SpaceShip имеет атрибуты для управления топливом, состоянием корпуса, и текущей скоростью.\n",
        "- CrewMember контролирует здоровье, навыки, и роли в команде (например, пилот, инженер).\n",
        "- Mission определяет цели, ресурсы, и возможные события (например, аварии, встречи с астероидами)."
      ],
      "metadata": {
        "id": "zLwqVCbpCBvc"
      }
    },
    {
      "cell_type": "code",
      "source": [
        "import random as rand\n",
        "\n",
        "class SpaceShip:\n",
        "    def __init__(self, fuel, housing, speed):\n",
        "        self.fuel = fuel\n",
        "        self.housing = housing\n",
        "        self.speed = speed\n",
        "\n",
        "    def refill(self, add_fuel):\n",
        "        self.fuel = self.fuel + add_fuel\n",
        "\n",
        "    def change_speed(self, new_speed):\n",
        "        self.speed = new_speed\n",
        "\n",
        "    def fix(self):\n",
        "        if self.housing != 100:\n",
        "            self.housing += 10\n",
        "            print(f'Состояние корпуса: {self.housing}%')\n",
        "        else:\n",
        "            print('Состояние корпуса: 100%')\n",
        "\n",
        "    def destruction(self, damage):\n",
        "        self.housing -= damage\n",
        "        print(f'Состояние корабля: {self.housing}%')\n",
        "\n",
        "class CrewMember:\n",
        "    def __init__(self, name):\n",
        "        skills = ['Энергетический щит: \\nОписание: Этот навык позволяет команде активировать защитный барьер вокруг корабля, поглощающий урон от вражеских атак.', 'Реактивный ремонт: \\nОписание: Команда может быстро восстанавливать повреждения корпуса корабля, используя ремонтные дроны.', 'Гравитационный импульс: \\nОписание: Создает кратковременный гравитационный импульс, который отталкивает врагов и объекты вокруг корабля.']\n",
        "        role = ['Пилот', 'Помощник пилота', 'Инженер', 'Помощник Инженера']\n",
        "        self.health = 100\n",
        "        self.name = name\n",
        "        self.role = role[rand.randrange(0,len(role),1)]\n",
        "        self.skills = skills[rand.randrange(0,len(skills),1)]\n",
        "        print(f'{self.name}, роль в команде: {self.role}, навык: {self.skills}')\n",
        "\n",
        "class Mission(CrewMember):\n",
        "    def __init__(self):\n",
        "        resurses = [['Энергокристаллы', 'Наноботы'], ['Редкие металлы', 'Микрочипы'], ['Космическое топливо', 'Кислородные картриджи']]\n",
        "        purposes = ['Исследование новых планет', 'Спасение экипажа другого корабля', 'Доставка важных грузов']\n",
        "        self.resurses = resurses[rand.randrange(0,len(resurses),1)]\n",
        "        self.purposes = purposes[rand.randrange(0,len(purposes),1)]\n",
        "\n",
        "    def events(self):\n",
        "        type_event = ['Поломка двигателя', 'Аварийная посадка на неизвестной планете']\n",
        "        event = type_event[rand.randrange(0,len(type_event),1)]\n",
        "\n",
        "        print(f'Ваша цель: {self.purposes}')\n",
        "        super().__init__('Alex')\n",
        "        if event == 'Поломка двигателя':\n",
        "            print('Пи-пи-пи... \\nНа борту сломан двигатель! \\nГде Инжинеры!?')\n",
        "            SpaceShip.destruction(self, rand.randrange(0,20,2))\n",
        "            if self.role == 'Инженер' or 'Помощник Инжинера':\n",
        "                SpaceShip.fix\n",
        "            else:\n",
        "                for res in (self.resurses):\n",
        "                    if ('Наноботы' in res) or ('Микрочипы' in res):\n",
        "                        SpaceShip.fix\n",
        "                    else:\n",
        "                        print('Двигетель не починить :(')\n",
        "\n",
        "        if event == 'Аварийная посадка на неизвестной планете':\n",
        "            print('Бз-бз-бз... \\nНеобходимо выполнить экстренную посадку на планету Аэриос \\nПилоты что-ли спят все? ')\n",
        "            SpaceShip.refill(self, rand.randrange(-30,0,1))\n",
        "            if self.role == 'Пилот' or 'Помощник пилота':\n",
        "                print('Посдка прошла успешно, все выжили')\n",
        "            else:\n",
        "                for res in (self.resurses):\n",
        "                    if ('Энергокристаллы' in res) or ('Космическое топливо' in res):\n",
        "                        print('Посдка прошла успешно, все выжили')\n",
        "                    else:\n",
        "                        print('Посадка не увенчалась успехом')"
      ],
      "metadata": {
        "id": "4NyrOOy8B9ED"
      },
      "execution_count": null,
      "outputs": []
    }
  ]
}