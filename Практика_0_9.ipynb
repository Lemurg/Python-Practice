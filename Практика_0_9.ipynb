{
  "nbformat": 4,
  "nbformat_minor": 0,
  "metadata": {
    "colab": {
      "provenance": []
    },
    "kernelspec": {
      "name": "python3",
      "display_name": "Python 3"
    },
    "language_info": {
      "name": "python"
    }
  },
  "cells": [
    {
      "cell_type": "markdown",
      "source": [
        "ФИО"
      ],
      "metadata": {
        "id": "8hJfL9b2l439"
      }
    },
    {
      "cell_type": "code",
      "source": [
        "Головко Александр Денисович"
      ],
      "metadata": {
        "id": "wRnqvYOkl6EX"
      },
      "execution_count": null,
      "outputs": []
    },
    {
      "cell_type": "markdown",
      "source": [
        "# Дисклеймер"
      ],
      "metadata": {
        "id": "weOtPwPQmgpD"
      }
    },
    {
      "cell_type": "markdown",
      "source": [
        "В данной практике вам необходимо применить все ваши знания по темам:\n",
        "\n",
        "- Функции\n",
        "- Словари\n",
        "- Списки\n",
        "- Множества\n",
        "- Условные конструкции\n",
        "- Запросы\n",
        "\n",
        "и все что было изучено на прошлых практических занятиях\n",
        "\n",
        "В каждом задании кратко описаны функции, которые необходимо реализовать, детали реализации вы должны продумать самостоятельно"
      ],
      "metadata": {
        "id": "LznB3uscmjDa"
      }
    },
    {
      "cell_type": "markdown",
      "source": [
        "# Задание 0"
      ],
      "metadata": {
        "id": "7nSJIqkTvC_C"
      }
    },
    {
      "cell_type": "markdown",
      "source": [
        "Создайте функцию по нахождению уникальных элементов из двух списков\n",
        "\n",
        "\n",
        "\n",
        "```\n",
        "a = [1, 2, 3, 4]\n",
        "b = [3, 4, 5, 6]\n",
        "```\n",
        "\n"
      ],
      "metadata": {
        "id": "exACjTiVvGUe"
      }
    },
    {
      "cell_type": "code",
      "source": [
        "def unique(a,b):\n",
        "    list_unique = []\n",
        "    for i in a:\n",
        "        count=0\n",
        "        for j in b:\n",
        "            if i==j:\n",
        "                count+=1\n",
        "        if count == 1:\n",
        "            list_unique.append(i)\n",
        "    return list_unique\n",
        "\n",
        "a = [1, 2, 3, 4]\n",
        "b = [3, 4, 5, 6]\n",
        "unique(a,b)"
      ],
      "metadata": {
        "id": "dQheNSYd4nd2",
        "colab": {
          "base_uri": "https://localhost:8080/"
        },
        "outputId": "54612ae5-b998-4a9b-e12a-c7d1c35004e1"
      },
      "execution_count": null,
      "outputs": [
        {
          "output_type": "execute_result",
          "data": {
            "text/plain": [
              "[3, 4]"
            ]
          },
          "metadata": {},
          "execution_count": 1
        }
      ]
    },
    {
      "cell_type": "markdown",
      "source": [
        "# Задание 1"
      ],
      "metadata": {
        "id": "SVWNlBALpCNo"
      }
    },
    {
      "cell_type": "markdown",
      "source": [
        "Симулятор виртуального питомца\n",
        "\n",
        "Цель: создать виртуальный симулятор домашних животных, в котором пользователи смогут заводить питомцев и ухаживать за ними.\n",
        "\n",
        "Требования:\n",
        "\n",
        "- Функция для усыновления питомца (имя, тип, возраст).\n",
        "- Функция для того, чтобы покормить питомца, поиграть с ним или уложить его спать.\n",
        "- Функция для отображения состояния питомца (голод, радость, энергия)."
      ],
      "metadata": {
        "id": "RcKA-VEqpC7f"
      }
    },
    {
      "cell_type": "code",
      "source": [
        "import random as rand\n",
        "\n",
        "\n",
        "def main():\n",
        "    #Функция для усыновления питомца\n",
        "    def adoption(name, _type_, age):\n",
        "        pet['Name'] = name\n",
        "        pet['Type'] = _type_\n",
        "        pet['Age'] = age\n",
        "        pet['Needs'] = needs\n",
        "        print(f'{_type_}, {name} готов вас радовать ^.^')\n",
        "\n",
        "\n",
        "    #Функция для удовлетворения потребностей питомца\n",
        "    def interaction(quest):\n",
        "        if 'покормить' in quest or 'Покормить' in quest:\n",
        "            meal = int(input('Еда: (введите цифру) \\n 1. Бургер \\n 2. Пицца \\n 3. Яблоки \\n'))\n",
        "            if meal == 1:\n",
        "                pet['Needs']['Satiety'] = pet['Needs']['Satiety']+15\n",
        "                print('Мммм... Вкуснотища')\n",
        "            if meal == 2:\n",
        "                pet['Needs']['Satiety'] = pet['Needs']['Satiety']+10\n",
        "                print('Было очень вкусно!')\n",
        "            if meal == 3:\n",
        "                pet['Needs']['Satiety'] = pet['Needs']['Satiety']+5\n",
        "                pet['Needs']['Happiness'] = pet['Needs']['Happiness']+5\n",
        "                print('Люблю фрукты :)')\n",
        "\n",
        "        if 'играть' in quest or 'Играть' in quest:\n",
        "            play = int(input('Игры: (введите цифру) \\n 1. Догонялки \\n 2. Прятки \\n 3. Ладушки \\n'))\n",
        "            if play == 1:\n",
        "                pet['Needs']['Happiness'] = pet['Needs']['Happiness']+15\n",
        "                pet['Needs']['Satiety'] = pet['Needs']['Satiety']-(rand.randrange(1,10,1))\n",
        "                pet['Needs']['Energy'] = pet['Needs']['Energy']-(rand.randrange(5,20,5))\n",
        "                print('Ураааа')\n",
        "            if play == 2:\n",
        "                pet['Needs']['Happiness'] = pet['Needs']['Happiness']+10\n",
        "                pet['Needs']['Satiety'] = pet['Needs']['Satiety']-(rand.randrange(1,5,1))\n",
        "                pet['Needs']['Energy'] = pet['Needs']['Energy']-(rand.randrange(5,15,5))\n",
        "                print('Обожаю играть')\n",
        "            if play == 3:\n",
        "                pet['Needs']['Happiness'] = pet['Needs']['Happiness']+5\n",
        "                pet['Needs']['Satiety'] = pet['Needs']['Satiety']-(rand.randrange(1,3,1))\n",
        "                pet['Needs']['Energy'] = pet['Needs']['Energy']-(rand.randrange(1,5,1))\n",
        "                print('Мне нравиться играть с тобой!)')\n",
        "\n",
        "        if 'спать' in quest or 'Спать' in quest:\n",
        "            duration = int(input('Сколько будем спать: (введите цифру) \\n 1. Вздремнуть \\n 2. Обычный сон \\n 3. Глубокий сон \\n'))\n",
        "            if duration == 1:\n",
        "                pet['Needs']['Energy'] = pet['Needs']['Energy']+15\n",
        "                pet['Needs']['Happiness'] = pet['Needs']['Happiness']-(rand.randrange(1,5,1))\n",
        "                pet['Needs']['Satiety'] = pet['Needs']['Satiety']-(rand.randrange(1,10,2))\n",
        "                print('Пора отдохнуть')\n",
        "            if duration == 2:\n",
        "                pet['Needs']['Energy'] = pet['Needs']['Energy']+30\n",
        "                pet['Needs']['Happiness'] = pet['Needs']['Happiness']-(rand.randrange(1,5,1))\n",
        "                pet['Needs']['Satiety'] = pet['Needs']['Satiety']-(rand.randrange(1,15,3))\n",
        "                print('Споки ноки)')\n",
        "            if duration == 3:\n",
        "                pet['Needs']['Energy'] = pet['Needs']['Energy']+50\n",
        "                pet['Needs']['Happiness'] = pet['Needs']['Happiness']-(rand.randrange(1,5,1))\n",
        "                pet['Needs']['Satiety'] = pet['Needs']['Satiety']-(rand.randrange(15,30,5))\n",
        "                print('Время выспаться!')\n",
        "\n",
        "    def pet_condition():\n",
        "        print('Сытость: ',pet['Needs']['Satiety'])\n",
        "        print('Счастье: ',pet['Needs']['Happiness'])\n",
        "        print('Энергия: ',pet['Needs']['Energy'])\n",
        "\n",
        "\n",
        "    #Питомец и его состояние(рандомно)\n",
        "    satiety_rand = rand.randrange(50,75,5)\n",
        "    happiness_rand = rand.randrange(70,100,1)\n",
        "    energy_rand = rand.randrange(80,100,1)\n",
        "    needs = {'Satiety': satiety_rand, 'Happiness': happiness_rand, 'Energy': energy_rand}\n",
        "    pet = {}\n",
        "\n",
        "    #Чат\n",
        "    quest = ''\n",
        "    while 'стоп' not in quest:\n",
        "        quest = list(map(str,input().split()))\n",
        "\n",
        "        if 'Новый' in quest or 'новый' in quest or 'создать' in quest:\n",
        "            name_pet = input('Введите Имя питомца:')\n",
        "            type_pet = ['Ежик', 'Лиса', 'Собака', 'Кот']\n",
        "            _type_ = int(input('Выберте питомца (введите цифру): \\n 1.Ежик \\n 2.Лиса \\n 3.Собака \\n 4.Кот \\n'))\n",
        "            age_pet =  0\n",
        "            adoption(name_pet, type_pet[_type_-1], age_pet)\n",
        "\n",
        "        if 'Покормить' in quest or 'покормить' in quest or 'играть' in quest:\n",
        "            interaction(quest)\n",
        "\n",
        "        if 'состояние' in quest:\n",
        "            pet_condition()\n",
        "\n",
        "\n",
        "if __name__ == '__main__':\n",
        "    main()"
      ],
      "metadata": {
        "id": "hE7mF-HXpJLO",
        "colab": {
          "base_uri": "https://localhost:8080/"
        },
        "outputId": "5321e0bc-0304-4072-c081-bdd1add8f0ad"
      },
      "execution_count": null,
      "outputs": [
        {
          "name": "stdout",
          "output_type": "stream",
          "text": [
            "новый\n",
            "Введите Имя питомца:пип\n",
            "Выберте питомца (введите цифру): /n 1.Ежик /n 2.Лиса /n 3.Собака /n 4.Кот /n1\n",
            "Ежик, пип готов вас радовать ^.^\n",
            "{'Name': 'пип', 'Type': 'Ежик', 'Age': 0, 'Needs': {'Satiety': 60, 'Happiness': 99, 'Energy': 88}}\n",
            "покрмить\n",
            "покормить\n",
            "Еда: (введите цифру) /n 1. Бургер /n 2. Пицца /n 3. Яблоки /n1\n",
            "стоп\n"
          ]
        }
      ]
    },
    {
      "cell_type": "markdown",
      "source": [
        "# Задание 2"
      ],
      "metadata": {
        "id": "qZ7qFQnmssNd"
      }
    },
    {
      "cell_type": "markdown",
      "source": [
        "Рыцарь и дракон\n",
        "\n",
        "Цель: создать небольшую игру, в которой вам необходимо играть за рыцаря и сразиться с драконом\n",
        "\n",
        "Требования:\n",
        "\n",
        "- Создание персонажа (имя, информация о доспехах, оружии, урон, здоровье)\n",
        "- Управление персонажем и мини сюжет\n",
        "- Создание дракона (Имя, информация о здоровье и уроне)\n",
        "- Боевая система (нанесение и получение урона, урон должен быть случайным в заданном диапазоне)\n",
        "- Реализовать бой между драконом и рыцарем"
      ],
      "metadata": {
        "id": "UaccTe7ltNvg"
      }
    },
    {
      "cell_type": "code",
      "source": [
        "import random as rand\n",
        "\n",
        "#Создать персонажа\n",
        "def creat_hero():\n",
        "    name = input('Введите имя героя: ')\n",
        "    hero['name'] = name\n",
        "\n",
        "    armor = [{'name': '1', 'protection': 5},\n",
        "            {'name': '2', 'protection': 10},\n",
        "            {'name': '3', 'protection': 15}]\n",
        "    for num in range(len(armor)):\n",
        "        print(armor[num]['name'])\n",
        "    num_armor = int(input('Выберите доспехи (Введите число): '))\n",
        "    hero['armor'] = armor[num_armor-1]\n",
        "\n",
        "    weapon = [{'name': '1', 'damage': 50},\n",
        "             {'name': '1', 'damage': 100},\n",
        "             {'name': '1', 'damage': 150}]\n",
        "    for num in range(len(weapon)):\n",
        "        print(weapon[num]['name'])\n",
        "    num_weapon = int(input('Выберите оружие (Введите число): '))\n",
        "    hero['weapon'] = weapon[num_weapon-1]\n",
        "\n",
        "    hero['health'] = 100\n",
        "\n",
        "#Создать дракона\n",
        "def creat_dragon():\n",
        "    name = input('Введите имя дракона: ')\n",
        "    dragon['name'] = name\n",
        "\n",
        "    dragon_health = int(input('Введите HP: '))\n",
        "    dragon['health'] = dragon_health\n",
        "\n",
        "    dragon_damage = int(input('Введите урон: '))\n",
        "    dragon['weapon'] = {'damage': dragon_damage}\n",
        "\n",
        "#Боевая система\n",
        "def combat_sys(character1, character2):\n",
        "    damage1 = rand.randrange(20,character2['weapon']['damage'],1)\n",
        "    character1['health'] = character1['health'] - damage1\n",
        "    print(f'{character1['name']}, наносит урон {damage1}, {character2['name']} HP:{character2['health']}')\n",
        "\n",
        "    damage2 = rand.randrange(20,character1['weapon']['damage'],1)\n",
        "    character2['health'] = character2['health'] - damage2\n",
        "    print(f'{character2['name']}, наносит урон {damage2}, {character1['name']} HP:{character1['health']}')\n",
        "\n",
        "\n",
        "def main():\n",
        "    creat_hero()\n",
        "    creat_dragon()\n",
        "    combat_sys(hero,dragon)\n",
        "\n",
        "\n",
        "hero = {}\n",
        "dragon = {}\n",
        "\n",
        "if __name__ == '__main__':\n",
        "    main()"
      ],
      "metadata": {
        "id": "LCcxp5Q0srjY",
        "colab": {
          "base_uri": "https://localhost:8080/"
        },
        "outputId": "d00d768d-0590-4894-ef88-0aa141c3fbb9"
      },
      "execution_count": null,
      "outputs": [
        {
          "name": "stdout",
          "output_type": "stream",
          "text": [
            "Введите имя героя: bro\n",
            "1\n",
            "2\n",
            "3\n",
            "Выберите доспехи (Введите число): 1\n",
            "1\n",
            "2\n",
            "3\n",
            "Выберите оружие (Введите число): 1\n",
            "Введите MAX урон (Не менее 100):1002\n",
            "Введите имя драконаHui\n",
            "2000\n",
            "21\n"
          ]
        }
      ]
    },
    {
      "cell_type": "markdown",
      "source": [
        "# Задание 3\n"
      ],
      "metadata": {
        "id": "N8oFiEXol3e2"
      }
    },
    {
      "cell_type": "markdown",
      "source": [
        "Цель - создать менеджера команды Pokémon, который позволит пользователям:\n",
        "\n",
        "- Добавлять покемонов в свою команду. (если такого покемона еще нет в команде)\n",
        "- Удалять покемонов из их команды.\n",
        "- Просматривать подробную информацию обо всех покемонах в команде.\n",
        "- Находить покемона по имени.\n",
        "- Устраивать тренировочный бой между двумя покемонами\n",
        "\n",
        "Для данной задачи используйте: https://pokeapi.co/\n"
      ],
      "metadata": {
        "id": "9p4WQG_Vl7wB"
      }
    },
    {
      "cell_type": "code",
      "source": [
        "import requests as req\n",
        "import random as rand\n",
        "\n",
        "\n",
        "def send_request(url):\n",
        "    responce = req.get(url)\n",
        "    if responce.status_code == 200:\n",
        "        return responce.json()\n",
        "    else:\n",
        "        print('Responce code: ', responce.status_code)\n",
        "        None\n",
        "\n",
        "#Добавление в команду\n",
        "def add_team():\n",
        "    pokemon = send_request('https://pokeapi.co/api/v2/pokemon')\n",
        "    number = 0\n",
        "    for i in range(len(pokemon['results'])):\n",
        "        number = number + 1\n",
        "        print(number,send_request('https://pokeapi.co/api/v2/pokemon')['results'][i]['name'])\n",
        "    name_pokemon = input()\n",
        "    for num in range(1,len(team)+1):\n",
        "        if team[f'name_{num}'] != name_pokemon:\n",
        "            team[f'name_{len(team)+1}'] = name_pokemon\n",
        "    print(team)\n",
        "\n",
        "#Удалить с команды\n",
        "def delete_team():\n",
        "    name_pokemon = input('Имя покемона которого вы хотите удалить: ')\n",
        "    for key, name in list(team.items()):\n",
        "        if name == name_pokemon:\n",
        "            del team[key]\n",
        "    print(team)\n",
        "\n",
        "#Информация о команде\n",
        "def information_team():\n",
        "    for name in team.values():\n",
        "        dict_pokemon = send_request(f'https://pokeapi.co/api/v2/pokemon/{name}')\n",
        "        name = dict_pokemon['name']\n",
        "        hp = dict_pokemon['stats'][0]['base_stat']\n",
        "        attack = dict_pokemon['stats'][1]['base_stat']\n",
        "        speed = dict_pokemon['stats'][5]['base_stat']\n",
        "        print(f'Name: {name} \\nHP: {hp} \\nAttack: {attack} \\nSpeed: {speed}')\n",
        "\n",
        "#Поиск данныйх по имени покемона\n",
        "def pokemon_find_name():\n",
        "    name = input()\n",
        "    dict_pokemon = send_request(f'https://pokeapi.co/api/v2/pokemon/{name}')\n",
        "    name = dict_pokemon['name']\n",
        "    hp = dict_pokemon['stats'][0]['base_stat']\n",
        "    attack = dict_pokemon['stats'][1]['base_stat']\n",
        "    speed = dict_pokemon['stats'][5]['base_stat']\n",
        "    print(f'Name: {name} \\nHP: {hp} \\nAttack: {attack} \\nSpeed: {speed}')\n",
        "\n",
        "#Битва между двух покемонов\n",
        "def battle_pokemon():\n",
        "    pokemon_name1 = input('Введите первого покемона: ')\n",
        "    pokemon_name2 = input('Введите второго покемона: ')\n",
        "    print(f'Бой между {pokemon_name1} и {pokemon_name2}, начинается!')\n",
        "\n",
        "    dict_pokemon1 = send_request(f'https://pokeapi.co/api/v2/pokemon/{pokemon_name1}')\n",
        "    hp1 = dict_pokemon1['stats'][0]['base_stat']\n",
        "    attack1 = dict_pokemon1['stats'][1]['base_stat']\n",
        "\n",
        "    dict_pokemon2 = send_request(f'https://pokeapi.co/api/v2/pokemon/{pokemon_name2}')\n",
        "    hp2 = dict_pokemon2['stats'][0]['base_stat']\n",
        "    attack2 = dict_pokemon2['stats'][1]['base_stat']\n",
        "\n",
        "    while (hp1 > 0) or (hp2 > 0):\n",
        "        hit1 = rand.randrange(1, attack2, 1)\n",
        "        hp1 = hp1 - hit1\n",
        "\n",
        "        hit2 = rand.randrange(1, attack1, 1)\n",
        "        hp2 = hp2 - hit2\n",
        "\n",
        "        print(f'{pokemon_name1}, наносит урон {hit1} \\nHP {pokemon_name2}: {hp2} ')\n",
        "        print(f'{pokemon_name2}, наносит урон {hit2} \\nHP {pokemon_name1}: {hp1} ')\n",
        "\n",
        "\n",
        "team = {'name_1': 'pikachu'}\n",
        "\n",
        "\n",
        "battle_pokemon()"
      ],
      "metadata": {
        "id": "NnGYp1MTqi5k",
        "colab": {
          "base_uri": "https://localhost:8080/"
        },
        "outputId": "52e2da44-9d28-4d4c-8607-8110f4319f70"
      },
      "execution_count": null,
      "outputs": [
        {
          "output_type": "stream",
          "name": "stdout",
          "text": [
            "Введите первого покемона: bulbasaur\n",
            "Введите второго покемона: bulbasaur\n",
            "Бой между bulbasaur и bulbasaur, начинается!\n",
            "bulbasaur, наносит урон 7 \n",
            "HP bulbasaur: 35 \n",
            "bulbasaur, наносит урон 10 \n",
            "HP bulbasaur: 38 \n",
            "bulbasaur, наносит урон 30 \n",
            "HP bulbasaur: -10 \n",
            "bulbasaur, наносит урон 45 \n",
            "HP bulbasaur: 8 \n",
            "bulbasaur, наносит урон 37 \n",
            "HP bulbasaur: -42 \n",
            "bulbasaur, наносит урон 32 \n",
            "HP bulbasaur: -29 \n"
          ]
        }
      ]
    }
  ]
}