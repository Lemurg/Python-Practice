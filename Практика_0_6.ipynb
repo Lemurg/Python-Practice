{
  "nbformat": 4,
  "nbformat_minor": 0,
  "metadata": {
    "colab": {
      "provenance": []
    },
    "kernelspec": {
      "name": "python3",
      "display_name": "Python 3"
    },
    "language_info": {
      "name": "python"
    }
  },
  "cells": [
    {
      "cell_type": "markdown",
      "source": [
        "\n",
        "\n",
        "---\n",
        "\n"
      ],
      "metadata": {
        "id": "tKNG_RzWxG6g"
      }
    },
    {
      "cell_type": "markdown",
      "source": [
        "# **Дисклеймер**\n",
        "\n",
        "В данной практике будет введен дополнительный критерий: чистота и читаемость кода, а также соблюдение правил описанных в начале практики"
      ],
      "metadata": {
        "id": "cFcrKfclKWh0"
      }
    },
    {
      "cell_type": "markdown",
      "source": [
        "\n",
        "\n",
        "---\n",
        "\n"
      ],
      "metadata": {
        "id": "0SnE87X1xDlV"
      }
    },
    {
      "cell_type": "markdown",
      "source": [
        "# Задание 1\n",
        "\n",
        "**Задача:**\n",
        "\n",
        "Напишите функцию очищающий список от дубликтов\n",
        "\n",
        "\n",
        "*Запрещено:*\n",
        "\n",
        "*   Использовать set() или готовые функции очищающие список от дубликатов\n",
        "\n",
        "Вввод:\n",
        "\n",
        "```\n",
        "apple banana apple 1 3 4 4 5\n",
        "```\n",
        "\n",
        "\n",
        "Вывод:\n",
        "\n",
        "```\n",
        "apple banana 1 3 4 5\n",
        "```\n",
        "\n"
      ],
      "metadata": {
        "id": "VxawR9NubT_F"
      }
    },
    {
      "cell_type": "code",
      "source": [
        "def clean(p_list):\n",
        "    clean_list = []\n",
        "    for i in p_list:\n",
        "        count=0\n",
        "        for j in range(len(p_list)):\n",
        "            if i == p_list[j]:\n",
        "                count+=1\n",
        "        if count<=1:\n",
        "            clean_list.append(i)\n",
        "    return clean_list\n",
        "\n",
        "\n",
        "print(clean(['apple', 'banana', 'apple', 1, 3, 4, 4, 5]))"
      ],
      "metadata": {
        "id": "ml5gnbPXbeju",
        "colab": {
          "base_uri": "https://localhost:8080/"
        },
        "outputId": "f732a909-cfaf-41b1-a67c-08865f35d916"
      },
      "execution_count": null,
      "outputs": [
        {
          "output_type": "stream",
          "name": "stdout",
          "text": [
            "['banana', 1, 3, 5]\n"
          ]
        }
      ]
    },
    {
      "cell_type": "markdown",
      "source": [
        "# Задание 2\n",
        "\n",
        "**Задача:**\n",
        "\n",
        "Написать функцию для нахождения простых чисел в диапазоне\n",
        "\n",
        "Ввод:\n",
        "\n",
        "```\n",
        "10, 50\n",
        "```\n",
        "\n",
        "Вывод:\n",
        "\n",
        "```\n",
        "11, 13, 17, 19, 23, 29, 31, 37, 41, 43, 47\n",
        "```"
      ],
      "metadata": {
        "id": "y05x0eD0cVCC"
      }
    },
    {
      "cell_type": "code",
      "source": [
        "def prime_num(beg_param, end_param):\n",
        "    num_list = []\n",
        "    for i in range(beg_param,end_param+1):\n",
        "        num_list.append(i)\n",
        "    comp_list = []\n",
        "    for num in num_list:\n",
        "        count=0\n",
        "        for j in range(1,num+1):\n",
        "            if num%j==0:\n",
        "                count+=1\n",
        "        if count==2:\n",
        "            comp_list.append(num)\n",
        "    return comp_list\n",
        "\n",
        "\n",
        "begin = 10\n",
        "end = 50\n",
        "print(prime_num(begin, end))"
      ],
      "metadata": {
        "id": "XSMJnLgrc6Bf",
        "colab": {
          "base_uri": "https://localhost:8080/"
        },
        "outputId": "2b1344d4-ed57-4c29-c744-cf1d774489a4"
      },
      "execution_count": null,
      "outputs": [
        {
          "output_type": "stream",
          "name": "stdout",
          "text": [
            "[11, 13, 17, 19, 23, 29, 31, 37, 41, 43, 47]\n"
          ]
        }
      ]
    },
    {
      "cell_type": "markdown",
      "source": [
        "# Задание 3\n",
        "\n",
        "Напишите функцию для объединения двух списков (список ключей и список значении) в словарь\n",
        "\n",
        "*Запрещено:*\n",
        "\n",
        "*   Использования готовых функции для объединения списков (пример: zip() )\n",
        "\n",
        "Дано:\n",
        "\n",
        "```\n",
        "keys = ['a', 'b', 'c', 'e' ]\n",
        "values = [1, 2, 3, 4]\n",
        "```\n",
        "\n",
        "Вывод:\n",
        "```\n",
        "{'a': 1, 'b': 2, 'c': 3, 'e': 4}\n",
        "```\n",
        "\n",
        "\n"
      ],
      "metadata": {
        "id": "vYM0LyxxdElN"
      }
    },
    {
      "cell_type": "code",
      "source": [
        "def dict_(keys, values):\n",
        "    dict_comp = {}\n",
        "    for value in range(len(values)):\n",
        "        for key in range(len(keys)):\n",
        "            if value == key:\n",
        "                dict_comp[str(keys[key])]=values[value]\n",
        "    return dict_comp\n",
        "\n",
        "\n",
        "print(dict_(['a', 'b', 'c', 'e' ],[1, 2, 3, 4]))"
      ],
      "metadata": {
        "id": "CRvhHTjCdvjS",
        "colab": {
          "base_uri": "https://localhost:8080/"
        },
        "outputId": "b2c16a07-58f6-470f-93cb-3afe9606c84f"
      },
      "execution_count": null,
      "outputs": [
        {
          "output_type": "stream",
          "name": "stdout",
          "text": [
            "{'a': 1, 'b': 2, 'c': 3, 'e': 4}\n"
          ]
        }
      ]
    },
    {
      "cell_type": "markdown",
      "source": [
        "# Задание 4\n",
        "\n",
        "Напишите функцию(ии) для подсчета статистических параметров:\n",
        "*   Сумму\n",
        "*   Среднее арифметическое\n",
        "*   Медиану\n",
        "*   Моду\n",
        "\n",
        "\n",
        "*Запрещено:*\n",
        "\n",
        "*   sum()\n",
        "*   sorted()\n",
        "*   и других функции предоставляющих готовое решение задания\n",
        "\n",
        "Дано:\n",
        "\n",
        "```\n",
        "numbers = [1, 2, 2, 3, 4, 5, 6, 7, 8 ,9 ,10]\n",
        "\n",
        "```\n",
        "\n",
        "Вывод:\n",
        "```\n",
        "{'mean': 5.181818181818182, 'median': 5, 'mode': 2, 'sum': 57}\n",
        "```\n"
      ],
      "metadata": {
        "id": "L_w8H8i-fQcP"
      }
    },
    {
      "cell_type": "code",
      "source": [
        "def statistics(list_):\n",
        "    '''sum'''\n",
        "    end_dict = {}\n",
        "    sum0 = 0\n",
        "    for i in list_:\n",
        "        sum0 += i\n",
        "    end_dict['sum'] = sum0\n",
        "\n",
        "    '''mode'''\n",
        "    list_num = []\n",
        "    for i in list_:\n",
        "        count1 = 0\n",
        "        for j in range(len(list_)):\n",
        "            if i == list_[j]:\n",
        "                count1 += 1\n",
        "        list_num.append(count1)\n",
        "    end_dict['mode'] = list_[list_num.index(max(list_num))]\n",
        "\n",
        "    '''median'''\n",
        "    end_dict['median'] = list_[len(list_)//2]\n",
        "\n",
        "    '''mean'''\n",
        "    sum1 = 0\n",
        "    for i in list_:\n",
        "        sum1 += i\n",
        "    end_dict['mean'] = sum1/len(list_)\n",
        "\n",
        "    return end_dict\n",
        "\n",
        "numbers = [1, 2, 2, 3, 4, 5, 6, 7, 8 ,9 ,10]\n",
        "statistics(numbers)"
      ],
      "metadata": {
        "id": "dW6jW_rjfuba",
        "colab": {
          "base_uri": "https://localhost:8080/"
        },
        "outputId": "8a684335-4e03-497e-f00a-d8b536ec934f"
      },
      "execution_count": null,
      "outputs": [
        {
          "output_type": "execute_result",
          "data": {
            "text/plain": [
              "{'sum': 57, 'mode': 2, 'median': 5, 'mean': 5.181818181818182}"
            ]
          },
          "metadata": {},
          "execution_count": 16
        }
      ]
    },
    {
      "cell_type": "markdown",
      "source": [
        "# Задание 5\n",
        "\n",
        "На ввод поступает строка символов. Строка состоит из слов, которые отделены друг от друга пробелами. Необходимо вывести самое длинное слово и его порядковый номер.\n",
        "\n",
        "*Запрещено:*\n",
        "\n",
        "*   len()\n",
        "\n",
        "Дано:\n",
        "\n",
        "```\n",
        "Страдание и боль всегда обязательны для широкого сознания и глубокого сердца.\n",
        "\n",
        "```\n",
        "\n",
        "Вывод:\n",
        "```\n",
        "Самое длинное слово с номером 5: обязательны\n",
        "```"
      ],
      "metadata": {
        "id": "hZW0NZ7SgTcp"
      }
    },
    {
      "cell_type": "code",
      "source": [
        "def count_letter(word):\n",
        "    count = 0\n",
        "    word = list(word)\n",
        "    for i in word:\n",
        "        if i==i:\n",
        "            count+=1\n",
        "    return count\n",
        "\n",
        "\n",
        "str_ = 'Страдание и боль всегда обязательны для широкого сознания и глубокого сердца.'\n",
        "str_ = list(str_.split())\n",
        "\n",
        "count = 0\n",
        "list_counts = []\n",
        "for i in str_:\n",
        "    if count_letter(i)>count:\n",
        "        count = count_letter(i)\n",
        "    list_counts.append(count)\n",
        "long_word = str_[list_counts.index(max(list_counts))]\n",
        "\n",
        "print('Самое длинное слово с номером', str_.index(long_word)+1,':', long_word)"
      ],
      "metadata": {
        "id": "rC5DpHHLsDYp",
        "colab": {
          "base_uri": "https://localhost:8080/"
        },
        "outputId": "736ae5d1-be25-4e37-f135-b9410b17d9b3"
      },
      "execution_count": null,
      "outputs": [
        {
          "output_type": "stream",
          "name": "stdout",
          "text": [
            "Самое длинное слово с номером 5 : обязательны\n"
          ]
        }
      ]
    },
    {
      "cell_type": "markdown",
      "source": [
        "# Задание 6\n",
        "\n",
        "Напишите программу, для управления оценками студентов, со следующими функциями:\n",
        "\n",
        "* Добавление информации о студенте и его оценках.\n",
        "* Подсчет среднего балла студента.\n",
        "* Получение списка всех студентов с их средними баллами.\n",
        "* Поиск студента по имени и вывод его оценок и среднего балла.\n",
        "\n",
        "\n",
        "\n"
      ],
      "metadata": {
        "id": "k5BzJW5ZeaQN"
      }
    },
    {
      "cell_type": "code",
      "source": [
        "def average(list_):\n",
        "    count = 0\n",
        "    for i in list_:\n",
        "        count += i\n",
        "    return count/len(list_)\n",
        "\n",
        "request = list(map(str,input().split()))\n",
        "stud_dict = {}\n",
        "\n",
        "while 'стоп' not in request:\n",
        "    request = list(map(str,input().split()))\n",
        "\n",
        "    if 'добавить' in request or 'Добавить' in request:\n",
        "        name = input('Имя: ')\n",
        "        grades = list(map(int,input('Оценки:').split()))\n",
        "        stud_dict[name] = grades\n",
        "        print('Студент добавлен')\n",
        "\n",
        "\n",
        "    if 'Средний' in request or 'средний' in request:\n",
        "        name1 = input('Имя студента: ')\n",
        "        print('Средний балл: ',average(stud_dict[str(name1)]))\n",
        "\n",
        "    if 'Список' in request or 'список' in request:\n",
        "        stud_dict_copy = {}\n",
        "        for k, v in stud_dict.items():\n",
        "            stud_dict_copy[str(k)] = average(v)\n",
        "        print(stud_dict_copy)\n",
        "\n",
        "    if 'Журнал' in request:\n",
        "        name2 = input('Имя студента: ')\n",
        "        print('ФИО:',name2 ,'Оценки: ',stud_dict[str(name2)],'Средний балл: ', average(stud_dict[str(name2)]))"
      ],
      "metadata": {
        "id": "cvhlltVbdyoL",
        "colab": {
          "base_uri": "https://localhost:8080/",
          "height": 228
        },
        "outputId": "6621cd8f-62e4-46c5-d98e-4f732120982a"
      },
      "execution_count": null,
      "outputs": [
        {
          "name": "stdout",
          "output_type": "stream",
          "text": [
            "cne\n",
            "студент Леха\n",
            "Имя студента: стоп\n"
          ]
        },
        {
          "output_type": "error",
          "ename": "KeyError",
          "evalue": "'стоп'",
          "traceback": [
            "\u001b[0;31m---------------------------------------------------------------------------\u001b[0m",
            "\u001b[0;31mKeyError\u001b[0m                                  Traceback (most recent call last)",
            "\u001b[0;32m<ipython-input-37-fc0bcac8f0ca>\u001b[0m in \u001b[0;36m<cell line: 10>\u001b[0;34m()\u001b[0m\n\u001b[1;32m     30\u001b[0m     \u001b[0;32mif\u001b[0m \u001b[0;34m'студент'\u001b[0m \u001b[0;32min\u001b[0m \u001b[0mrequest\u001b[0m \u001b[0;32mor\u001b[0m \u001b[0;34m(\u001b[0m\u001b[0;34m'студент'\u001b[0m \u001b[0;32min\u001b[0m \u001b[0mrequest\u001b[0m \u001b[0;32mand\u001b[0m \u001b[0minput\u001b[0m\u001b[0;34m(\u001b[0m\u001b[0;34m)\u001b[0m\u001b[0;34m)\u001b[0m\u001b[0;34m:\u001b[0m\u001b[0;34m\u001b[0m\u001b[0;34m\u001b[0m\u001b[0m\n\u001b[1;32m     31\u001b[0m         \u001b[0mname2\u001b[0m \u001b[0;34m=\u001b[0m \u001b[0minput\u001b[0m\u001b[0;34m(\u001b[0m\u001b[0;34m'Имя студента: '\u001b[0m\u001b[0;34m)\u001b[0m\u001b[0;34m\u001b[0m\u001b[0;34m\u001b[0m\u001b[0m\n\u001b[0;32m---> 32\u001b[0;31m         \u001b[0mprint\u001b[0m\u001b[0;34m(\u001b[0m\u001b[0;34m'ФИО:'\u001b[0m\u001b[0;34m,\u001b[0m\u001b[0mname2\u001b[0m \u001b[0;34m,\u001b[0m\u001b[0;34m'Оценки: '\u001b[0m\u001b[0;34m,\u001b[0m\u001b[0mstud_dict\u001b[0m\u001b[0;34m[\u001b[0m\u001b[0mstr\u001b[0m\u001b[0;34m(\u001b[0m\u001b[0mname2\u001b[0m\u001b[0;34m)\u001b[0m\u001b[0;34m]\u001b[0m\u001b[0;34m,\u001b[0m\u001b[0;34m'Средний балл: '\u001b[0m\u001b[0;34m,\u001b[0m \u001b[0maverage\u001b[0m\u001b[0;34m(\u001b[0m\u001b[0mstud_dict\u001b[0m\u001b[0;34m[\u001b[0m\u001b[0mstr\u001b[0m\u001b[0;34m(\u001b[0m\u001b[0mname2\u001b[0m\u001b[0;34m)\u001b[0m\u001b[0;34m]\u001b[0m\u001b[0;34m)\u001b[0m\u001b[0;34m)\u001b[0m\u001b[0;34m\u001b[0m\u001b[0;34m\u001b[0m\u001b[0m\n\u001b[0m",
            "\u001b[0;31mKeyError\u001b[0m: 'стоп'"
          ]
        }
      ]
    }
  ]
}
