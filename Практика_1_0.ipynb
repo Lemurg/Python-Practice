{
  "nbformat": 4,
  "nbformat_minor": 0,
  "metadata": {
    "colab": {
      "provenance": [],
      "collapsed_sections": [
        "-CSHUbWzCqeM",
        "C0Z_wXo9XIr2",
        "0ct1u6lqE73j",
        "C5DX5Uf2FfP6",
        "b_mJHXcQGI9t"
      ]
    },
    "kernelspec": {
      "name": "python3",
      "display_name": "Python 3"
    },
    "language_info": {
      "name": "python"
    }
  },
  "cells": [
    {
      "cell_type": "markdown",
      "source": [
        "ФИО: Головко Александр Денисович"
      ],
      "metadata": {
        "id": "fLDS5f_mCnPa"
      }
    },
    {
      "cell_type": "markdown",
      "source": [
        "# Задание (совместное с преподавателем)\n",
        "\n",
        "\n"
      ],
      "metadata": {
        "id": "-CSHUbWzCqeM"
      }
    },
    {
      "cell_type": "markdown",
      "source": [
        "Напишите систему для учёта отпусков с возможностью узнавать, сколько дней отпуска осталось у того или иного сотрудника.\n",
        "Для этого создайте класс Employee со следующими методами:\n",
        "\n",
        "- Метод consume_vacation должен отвечать за списание дней отпуска.\n",
        "\n",
        "Единственный параметр этого метода (кроме self) — количество потраченных отпускных дней (целое число).\n",
        "\n",
        "При вызове метода consume_vacation соответствующее количество дней должно вычитаться из общего числа доступных отпускных дней сотрудника.\n",
        "\n",
        "Чтобы определить число доступных отпускных дней конкретного сотрудника, в классе опишите атрибут экземпляра |, который по умолчанию будет равен значению атрибута класса vacation_days, и используйте этот атрибут в работе метода.\n",
        "\n",
        "- Метод get_vacation_details должен возвращать остаток отпускных дней сотрудника в формате: ```Остаток отпускных дней: <число>.```\n",
        "\n",
        "\n",
        "Чтобы проверить работу программы:\n",
        "1. Создайте экземпляр класса Employee.\n",
        "2. Вызовите метод consume_vacation, указав подходящее значение аргумента, например 7.\n",
        "3. Вызовите метод get_vacation_details."
      ],
      "metadata": {
        "id": "a_flBjZOCwYz"
      }
    },
    {
      "cell_type": "code",
      "source": [
        "class Employee:\n",
        "    vacation_days = 28\n",
        "\n",
        "    def __init__(self, first_name, second_name, gender):\n",
        "        self.first_name = first_name\n",
        "        self.second_name = second_name\n",
        "        self.gender = gender\n",
        "        self.remaining_vacation_days = self.vacation_days\n",
        "\n",
        "    def consume_vacation(self,days):\n",
        "        self.remaining_vacation_days -= days\n",
        "\n",
        "    def get_vacation_details(self):\n",
        "        return f'Остаток отпускных дней: {self.remaining_vacation_days}'"
      ],
      "metadata": {
        "id": "2TyRY9a1XCOu"
      },
      "execution_count": null,
      "outputs": []
    },
    {
      "cell_type": "code",
      "source": [
        "employee1 = Employee('Иван', 'Иванов', 'М')\n",
        "employee2 = Employee('Анна', 'Иванова', 'Ж')\n",
        "\n",
        "print(employee1.first_name, employee1.get_vacation_details())\n",
        "print(employee1.first_name, 'уехал в отпуск на 7 дней')\n",
        "\n",
        "employee1.consume_vacation(7)\n",
        "\n",
        "print(employee1.first_name, employee1.get_vacation_details())\n",
        "\n",
        "\n",
        "print(employee2.first_name, employee2.get_vacation_details())\n",
        "print(employee2.first_name, 'уехала в отпуск на 10 дней')\n",
        "\n",
        "employee2.consume_vacation(10)\n",
        "\n",
        "print(employee2.first_name, employee2.get_vacation_details())"
      ],
      "metadata": {
        "colab": {
          "base_uri": "https://localhost:8080/"
        },
        "id": "5DLWkHE2DNVo",
        "outputId": "f8265f6c-9401-4fdf-d159-dd9a53bfe8c9"
      },
      "execution_count": null,
      "outputs": [
        {
          "output_type": "stream",
          "name": "stdout",
          "text": [
            "Иван Остаток отпускных дней: 28\n",
            "Иван уехал в отпуск на 7 дней\n",
            "Иван Остаток отпускных дней: 21\n",
            "Анна Остаток отпускных дней: 28\n",
            "Анна уехала в отпуск на 10 дней\n",
            "Анна Остаток отпускных дней: 18\n"
          ]
        }
      ]
    },
    {
      "cell_type": "markdown",
      "source": [
        "# Задание 1"
      ],
      "metadata": {
        "id": "C0Z_wXo9XIr2"
      }
    },
    {
      "cell_type": "markdown",
      "source": [
        "Задание:\n",
        "\n",
        "Создайте класс с именем Rectangle который имеет:\n",
        "- Атрибуты ширины и высоты.\n",
        "- Метод расчета площади.\n",
        "- Метод расчета периметра.\n",
        "- Метод отображения размеров прямоугольника.\n",
        "\n",
        "Создайте экземпляр класса Rectangleи продемонстрируйте его функциональность."
      ],
      "metadata": {
        "id": "jQ4qqd8nEZBY"
      }
    },
    {
      "cell_type": "code",
      "source": [
        "import matplotlib.pyplot as plt\n",
        "\n",
        "class Rectangle:\n",
        "    heigt = 10\n",
        "    widht = 5\n",
        "\n",
        "    def calculating_area(self):\n",
        "        area = self.heigt * self.widht\n",
        "        return area\n",
        "\n",
        "    def calculating_perimetr(self):\n",
        "        perimetr = (self.heigt + self.widht) * 2\n",
        "        return perimetr\n",
        "\n",
        "    def show_shape(self):\n",
        "        fig = plt.figure()\n",
        "        ax = fig.add_subplot(111)\n",
        "        rect = matplotlib.patches.Rectangle((0, 0), self.widht, self.heigt)\n",
        "        ax.add_patch(rect)\n",
        "        plt.xlim(self.widht - 25,self.widht + 25)\n",
        "        plt.ylim(self.heigt - 25,self.heigt + 25)\n",
        "        plt.show()\n",
        "\n",
        "    def print_info(self):\n",
        "        print(self.height,self.width)\n",
        "\n",
        "\n",
        "rec = Rectangle()\n",
        "print(rec.calculating_area())\n",
        "print(rec.calculating_perimetr())\n",
        "print(rec.show_shape())"
      ],
      "metadata": {
        "id": "dG6uNPqTEAvt",
        "colab": {
          "base_uri": "https://localhost:8080/",
          "height": 482
        },
        "outputId": "c40a5852-772a-41d5-9477-90ede30c6dd5"
      },
      "execution_count": null,
      "outputs": [
        {
          "output_type": "stream",
          "name": "stdout",
          "text": [
            "50\n",
            "30\n"
          ]
        },
        {
          "output_type": "display_data",
          "data": {
            "text/plain": [
              "<Figure size 640x480 with 1 Axes>"
            ],
            "image/png": "[encoded data removed]"
          },
          "metadata": {}
        },
        {
          "output_type": "stream",
          "name": "stdout",
          "text": [
            "None\n"
          ]
        }
      ]
    },
    {
      "cell_type": "markdown",
      "source": [
        "# Задание 2"
      ],
      "metadata": {
        "id": "0ct1u6lqE73j"
      }
    },
    {
      "cell_type": "markdown",
      "source": [
        "Задание: Создайте мини версию банковской системы:\n",
        "\n",
        "\n",
        "Инструкции:\n",
        "\n",
        "1. Создайте класс BankAccountсо следующими атрибутами:\n",
        "    - account_holder -  владелец счета\n",
        "    - balance - баланс счета\n",
        "\n",
        "2. Реализуйте следующие методы:\n",
        "    - Метод для инициализации владельца счета: имя владельца счета и установите начальный баланс на 0.\n",
        "    - deposit(amount): Добавьте указанную сумму к балансу.\n",
        "    - withdraw(amount): Вычесть указанную сумму из баланса, если средств достаточно; в противном случае вывести предупреждение.\n",
        "    - get_balance(): Возврат текущего баланса.\n",
        "\n",
        "\n",
        "Создайте объект класса и продемонстрируйте его возможности"
      ],
      "metadata": {
        "id": "FOpIpcLxE-WK"
      }
    },
    {
      "cell_type": "code",
      "source": [
        "class BankAccountсо:\n",
        "    account_holder = 'full name'\n",
        "    balance = 0\n",
        "\n",
        "    def __init__(self, account_holder):\n",
        "        self.account_holder = account_holder\n",
        "        self.balance = 0\n",
        "        print(f'{self.account_holder}, Ваш аккаунт создан!')\n",
        "\n",
        "    def deposit(self, amount):\n",
        "        self.balance = self.balance + amount\n",
        "        return f'Ваш баланс был пополнен на {amount}, остаток на счету: {self.balance}'\n",
        "\n",
        "    def withdraw(self, amount):\n",
        "        if (self.balance - amount) > 0:\n",
        "            self.balance = self.balance - amount\n",
        "            print(f'Операция на {amount}, успешно выполнена, остаток на счету: {self.balance}')\n",
        "        else:\n",
        "            return f'На вашем счету недостаточно средств для покупки \\nОстаток счета: {self.balance}'\n",
        "\n",
        "    def get_balance(self):\n",
        "        return f'На вашем счету: {self.balance}'\n",
        "\n",
        "user_1 = BankAccountсо('Головко Александр Денисович')\n",
        "print(user_1.deposit(1000))\n",
        "print(user_1.get_balance())\n",
        "print(user_1.withdraw(359))"
      ],
      "metadata": {
        "id": "WWXNIUrCE99W",
        "colab": {
          "base_uri": "https://localhost:8080/"
        },
        "outputId": "da32d239-6a5f-4c5e-f037-02c2f5dbd582"
      },
      "execution_count": null,
      "outputs": [
        {
          "output_type": "stream",
          "name": "stdout",
          "text": [
            "Головко Александр Денисович, Ваш аккаунт создан!\n",
            "Ваш баланс был пополнен на 1000, остаток на счету: 1000\n",
            "На вашем счету: 1000\n",
            "Операция на 359, успешно выполнена, остаток на счету: 641\n",
            "None\n"
          ]
        }
      ]
    },
    {
      "cell_type": "markdown",
      "source": [
        "# Задание 3"
      ],
      "metadata": {
        "id": "C5DX5Uf2FfP6"
      }
    },
    {
      "cell_type": "markdown",
      "source": [
        "Возьмите код и задание (Рыцарь и дракон) из предыдущей практики и реализуйте его с применением классов"
      ],
      "metadata": {
        "id": "0cR-MYepFgz6"
      }
    },
    {
      "cell_type": "code",
      "source": [
        "import random as rand\n",
        "\n",
        "class GameSys:\n",
        "    def __init__(self):\n",
        "        self.name = input('Введите имя персонажа: ')\n",
        "\n",
        "        armor = [{'name': '1', 'protection': 5}, {'name': '2', 'protection': 10}, {'name': '3', 'protection': 15}]\n",
        "        for num in range(len(armor)):\n",
        "            print(armor[num]['name'])\n",
        "        num_armor = int(input('Выберите доспехи (Введите число): '))\n",
        "        self.armor = armor[num_armor-1]\n",
        "\n",
        "        weapon = [{'name': '1', 'damage': 50}, {'name': '1', 'damage': 100}, {'name': '1', 'damage': 150}]\n",
        "        for num in range(len(weapon)):\n",
        "            print(weapon[num]['name'])\n",
        "        num_weapon = int(input('Выберите оружие (Введите число): '))\n",
        "        self.weapon = weapon[num_weapon-1]\n",
        "\n",
        "        self.health = 100\n",
        "\n",
        "    def creat_dragon(self):\n",
        "        name = input('Введите имя дракона: ')\n",
        "        self.name = name\n",
        "\n",
        "        dragon_health = int(input('Введите HP: '))\n",
        "        self.health = dragon_health\n",
        "\n",
        "        dragon_damage = int(input('Введите урон: '))\n",
        "        self.weapon = {'damage': dragon_damage}\n",
        "\n",
        "    def combat_sys(character1, character2):\n",
        "        damage1 = rand.randrange(20, character2.weapon['damage'],1)\n",
        "        character1.health = character1.health - damage1\n",
        "        print(f'{character1.name}, наносит урон {damage1}, {character2.name} HP:{character2.health}')\n",
        "\n",
        "        damage2 = rand.randrange(20, character1.weapon['damage'],1)\n",
        "        character2.health = character2.health - damage2\n",
        "        print(f'{character2.name}, наносит урон {damage2}, {character1.name} HP:{character1.health}')\n",
        "\n",
        "class GamePlay(GameSys):\n",
        "    def __init__(self):\n",
        "        super().__init__()\n",
        "\n",
        "\n",
        "def main():\n",
        "    GamePlay().creat_dragon()\n",
        "    GamePlay().combat_sys()\n",
        "\n",
        "\n",
        "if __name__ == '__main__':\n",
        "    main()"
      ],
      "metadata": {
        "id": "Oz9BZbhAFwua",
        "colab": {
          "base_uri": "https://localhost:8080/",
          "height": 662
        },
        "outputId": "817463af-5cd3-4077-bbe2-3b7ab1ce90b8"
      },
      "execution_count": null,
      "outputs": [
        {
          "name": "stdout",
          "output_type": "stream",
          "text": [
            "Введите имя персонажа: 1\n",
            "1\n",
            "2\n",
            "3\n",
            "Выберите доспехи (Введите число): 1\n",
            "1\n",
            "1\n",
            "1\n",
            "Выберите оружие (Введите число): 1\n",
            "Введите имя дракона: 1\n",
            "Введите HP: 1\n",
            "Введите урон: 1\n",
            "Введите имя персонажа: 1\n",
            "1\n",
            "2\n",
            "3\n",
            "Выберите доспехи (Введите число): 1\n",
            "1\n",
            "1\n",
            "1\n",
            "Выберите оружие (Введите число): 1\n"
          ]
        },
        {
          "output_type": "error",
          "ename": "TypeError",
          "evalue": "GameSys.combat_sys() missing 1 required positional argument: 'character2'",
          "traceback": [
            "\u001b[0;31m---------------------------------------------------------------------------\u001b[0m",
            "\u001b[0;31mTypeError\u001b[0m                                 Traceback (most recent call last)",
            "\u001b[0;32m<ipython-input-7-da1b8d14debc>\u001b[0m in \u001b[0;36m<cell line: 50>\u001b[0;34m()\u001b[0m\n\u001b[1;32m     49\u001b[0m \u001b[0;34m\u001b[0m\u001b[0m\n\u001b[1;32m     50\u001b[0m \u001b[0;32mif\u001b[0m \u001b[0m__name__\u001b[0m \u001b[0;34m==\u001b[0m \u001b[0;34m'__main__'\u001b[0m\u001b[0;34m:\u001b[0m\u001b[0;34m\u001b[0m\u001b[0;34m\u001b[0m\u001b[0m\n\u001b[0;32m---> 51\u001b[0;31m     \u001b[0mmain\u001b[0m\u001b[0;34m(\u001b[0m\u001b[0;34m)\u001b[0m\u001b[0;34m\u001b[0m\u001b[0;34m\u001b[0m\u001b[0m\n\u001b[0m",
            "\u001b[0;32m<ipython-input-7-da1b8d14debc>\u001b[0m in \u001b[0;36mmain\u001b[0;34m()\u001b[0m\n\u001b[1;32m     45\u001b[0m \u001b[0;32mdef\u001b[0m \u001b[0mmain\u001b[0m\u001b[0;34m(\u001b[0m\u001b[0;34m)\u001b[0m\u001b[0;34m:\u001b[0m\u001b[0;34m\u001b[0m\u001b[0;34m\u001b[0m\u001b[0m\n\u001b[1;32m     46\u001b[0m     \u001b[0mGamePlay\u001b[0m\u001b[0;34m(\u001b[0m\u001b[0;34m)\u001b[0m\u001b[0;34m.\u001b[0m\u001b[0mcreat_dragon\u001b[0m\u001b[0;34m(\u001b[0m\u001b[0;34m)\u001b[0m\u001b[0;34m\u001b[0m\u001b[0;34m\u001b[0m\u001b[0m\n\u001b[0;32m---> 47\u001b[0;31m     \u001b[0mGamePlay\u001b[0m\u001b[0;34m(\u001b[0m\u001b[0;34m)\u001b[0m\u001b[0;34m.\u001b[0m\u001b[0mcombat_sys\u001b[0m\u001b[0;34m(\u001b[0m\u001b[0;34m)\u001b[0m\u001b[0;34m\u001b[0m\u001b[0;34m\u001b[0m\u001b[0m\n\u001b[0m\u001b[1;32m     48\u001b[0m \u001b[0;34m\u001b[0m\u001b[0m\n\u001b[1;32m     49\u001b[0m \u001b[0;34m\u001b[0m\u001b[0m\n",
            "\u001b[0;31mTypeError\u001b[0m: GameSys.combat_sys() missing 1 required positional argument: 'character2'"
          ]
        }
      ]
    },
    {
      "cell_type": "markdown",
      "source": [
        "1# Дополнительное задание\n"
      ],
      "metadata": {
        "id": "b_mJHXcQGI9t"
      }
    },
    {
      "cell_type": "markdown",
      "source": [
        "Задача: Система управления библиотекой\n",
        "\n",
        "**Цель**\n",
        "Создайте простую систему управления библиотекой, которая позволит пользователям добавлять книги, брать книги, возвращать книги и просматривать список доступных книг.\n",
        "\n",
        "**Требования**\n",
        "\n",
        "1. **Определение класса**:\n",
        "   – Создайте класс с именем «Book» со следующими атрибутами:\n",
        "     - `title`\n",
        "     - `автор`\n",
        "     - `isbn`\n",
        "     - `is_borrowed` (по умолчанию `False`)\n",
        "\n",
        "2. **Класс библиотеки**:\n",
        "   - Создайте класс с именем Library, который управляет коллекцией книг.\n",
        "   - Класс должен иметь следующие методы:\n",
        "     - `__init__(self)`: инициализирует пустой список книг.\n",
        "     - `add_book(self, book: Book)`: добавляет новую книгу в библиотеку.\n",
        "     - `borrow_book(self, isbn: str)`: помечает книгу как заимствованную. Если книга не найдена или уже взята, выведите соответствующее сообщение.\n",
        "     - `return_book(self, isbn: str)`: помечает книгу как возвращенную. Если книга не найдена или не была взята взаймы, выведите соответствующее сообщение.\n",
        "     - `list_available_books(self)`: печатает список всех доступных книг в библиотеке.\n",
        "     - `find_book(self, isbn: str)`: возвращает объект книги, если он найден, в противном случае возвращает `None`.\n",
        "\n",
        "3. **Взаимодействие с пользователем**:\n",
        "   - Создайте простое текстовое меню, которое позволит пользователям:\n",
        "     - Добавить книгу\n",
        "     - Одолжить книгу\n",
        "     - Вернуть книгу\n",
        "     - Список доступных книг\n",
        "     - Выйти из программы"
      ],
      "metadata": {
        "id": "pnIUdFPcGOVL"
      }
    },
    {
      "cell_type": "code",
      "source": [],
      "metadata": {
        "id": "GKKmdfN8GL6f"
      },
      "execution_count": null,
      "outputs": []
    }
  ]
}