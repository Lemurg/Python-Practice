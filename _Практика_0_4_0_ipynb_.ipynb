{
  "cells": [
    {
      "cell_type": "markdown",
      "metadata": {
        "id": "8HbYUbm3Jw3o"
      },
      "source": [
        "***Дисклеймер***\n",
        "\n",
        "В данной практике запрещено использования функций:\n",
        "\n",
        "\n",
        "*   sum()\n",
        "*   min()\n",
        "*   max()\n",
        "*   average()\n",
        "*   reversed()\n",
        "*   sorted()\n",
        "*   готовые функции или библиотеки\n"
      ]
    },
    {
      "cell_type": "markdown",
      "metadata": {
        "id": "HmX0c6YPJSQr"
      },
      "source": [
        "\n",
        "**Задача 1:**\n",
        "\n",
        "\n",
        "\n",
        "Интернет-магазин предлагает следующие условия скидок:\n",
        "\n",
        "*   Для заказов больше 1000 единиц, клиент получает скидку 5%. Если клиент использует промокод SUPERDISCOUNT, он получает скидку 10% (вместо 5%).\n",
        "*  Для заказов более 5000 единиц, клиент получает скидку 15%, а использование промокода SUPERDISCOUNT увеличивает скидку до 20% (вместо 15%).\n",
        "\n",
        "Этап 1:\n",
        "Ввод:\n",
        "```\n",
        "Введите стоимость единицы товара: 5\n",
        "Введите количество товара: 1001\n",
        "Введите промокод: GiVEMEDISCONT\n",
        "```\n",
        "\n",
        "Вывод:\n",
        "\n",
        "```\n",
        "Ваша скидка: 5%\n",
        "Итоговая сумма: 4754.75\n",
        "```\n",
        "Этап 2:\n",
        "\n",
        "Оформите ваш код в виде функции"
      ]
    },
    {
      "cell_type": "code",
      "execution_count": null,
      "metadata": {
        "colab": {
          "base_uri": "https://localhost:8080/"
        },
        "id": "OAIMIpklMN5D",
        "outputId": "9bbd9c7c-b193-41e4-f7a5-c1cf2c05c191"
      },
      "outputs": [
        {
          "name": "stdout",
          "output_type": "stream",
          "text": [
            "Введите стоимость единицы товара:5\n",
            "Введите количество товара:1001\n",
            "Введите промокод:ethghr\n",
            "Ваша скидка: 5%\n",
            "Итоговая сумма: 4754.75\n"
          ]
        }
      ],
      "source": [
        "cost_prod=float(input('Введите стоимость единицы товара:'))\n",
        "amount_prod=float(input('Введите количество товара:'))\n",
        "promo=input('Введите промокод:')\n",
        "if promo == 'SUPERDISCOUNT':\n",
        "  if amount_prod>1000:\n",
        "    print('Ваша скидка: 10%')\n",
        "    print('Итоговая сумма:',(amount_prod*cost_prod)-(amount_prod*cost_prod*0,1))\n",
        "  if amount_prod>5000:\n",
        "    print('Ваша скидка: 20%')\n",
        "    print('Итоговая сумма:',(amount_prod*cost_prod)-(amount_prod*cost_prod*0,2))\n",
        "elif amount_prod>1000 and promo != 'SUPERDISCOUNT':\n",
        "  print('Ваша скидка: 5%')\n",
        "  print('Итоговая сумма:', (amount_prod*cost_prod)-(amount_prod*cost_prod*(0.05)))\n",
        "elif amount_prod>5000 and promo != 'SUPERDISCOUNT':\n",
        "  print('Ваша скидка: 15%')\n",
        "  print('Итоговая сумма:', (amount_prod*cost_prod)-(amount_prod*cost_prod*(0.15)))"
      ]
    },
    {
      "cell_type": "markdown",
      "metadata": {
        "id": "eeRVWpuLNGJ0"
      },
      "source": [
        "**Задача 2:**\n",
        "\n",
        "Этап 1:\n",
        "Напишите программу способную отфильтровать список и вывести только положительные элементы\n",
        "\n",
        "\n",
        "Ввод:\n",
        "```\n",
        "-1 5 1 2 -3\n",
        "```\n",
        "\n",
        "Вывод:\n",
        "\n",
        "```\n",
        "5 1 2\n",
        "```\n",
        "\n",
        "Этап 2:\n",
        "\n",
        "Оформите ваш код в виде функции"
      ]
    },
    {
      "cell_type": "code",
      "execution_count": null,
      "metadata": {
        "colab": {
          "base_uri": "https://localhost:8080/"
        },
        "id": "Xbi6bL0WOE9N",
        "outputId": "635323cc-2a37-4291-cd3b-f9fd8ec63118"
      },
      "outputs": [
        {
          "name": "stdout",
          "output_type": "stream",
          "text": [
            "-1 5 1 2 -3\n",
            "[5, 1, 2]\n"
          ]
        }
      ],
      "source": [
        "a = list(map(int,input().split()))\n",
        "s = []\n",
        "for i in a:\n",
        "  if i == abs(i):\n",
        "    s.append(i)\n",
        "print(s)"
      ]
    },
    {
      "cell_type": "markdown",
      "metadata": {
        "id": "lV-w6G-POa6F"
      },
      "source": [
        "**Задача 3:**\n",
        "\n",
        "Этап 1:\n",
        "Напишите программу реализующую Алгоритм Евклида\n",
        "\n",
        "\n",
        "> Алгоритм Евклида – это алгоритм нахождения наибольшего общего делителя (НОД) пары целых чисел.\n",
        "\n",
        "\n",
        "\n",
        "Ввод:\n",
        "```\n",
        "30 18\n",
        "```\n",
        "\n",
        "Вывод:\n",
        "\n",
        "```\n",
        "6\n",
        "```\n",
        "\n",
        "Этап 2:\n",
        "Оформите ваш код в виде функции\n"
      ]
    },
    {
      "cell_type": "code",
      "execution_count": null,
      "metadata": {
        "colab": {
          "base_uri": "https://localhost:8080/"
        },
        "id": "43Dl5tIpOZsu",
        "outputId": "01389bdd-b08f-4e71-c1d9-95bb4dd750dd"
      },
      "outputs": [
        {
          "name": "stdout",
          "output_type": "stream",
          "text": [
            "30 18\n",
            "6\n"
          ]
        }
      ],
      "source": [
        "a=list(map(int,input().split()))\n",
        "while a[0]!=a[1]:\n",
        "  if a[0]>a[1]:\n",
        "    a[0]=a[0]-a[1]\n",
        "  else:\n",
        "    a[1]=a[1]-a[0]\n",
        "print(a[0])"
      ]
    },
    {
      "cell_type": "markdown",
      "metadata": {
        "id": "Aa83ADofPcPZ"
      },
      "source": []
    },
    {
      "cell_type": "markdown",
      "metadata": {
        "id": "WIfPFxpsO0zL"
      },
      "source": [
        "**Задача 4:**\n",
        "\n",
        "Этап 1:\n",
        "Напишите функцию программу, которая принимает строку и возвращает список слов и количество их упомнинаний в предложении\n",
        "\n",
        "Этап 2:\n",
        "Оформите ваш код в виде функции\n",
        "\n",
        "Ввод:\n",
        "```\n",
        "apple banana apple\n",
        "```\n",
        "\n",
        "Вывод:\n",
        "\n",
        "```\n",
        "apple: 2,\n",
        "banana: 1\n",
        "```"
      ]
    },
    {
      "cell_type": "code",
      "execution_count": null,
      "metadata": {
        "colab": {
          "base_uri": "https://localhost:8080/"
        },
        "id": "DgsmFeW5Po_x",
        "outputId": "0b50ce16-9f29-4913-dae6-d0e407fd52d3"
      },
      "outputs": [
        {
          "name": "stdout",
          "output_type": "stream",
          "text": [
            "apple banana apple apple banana apple\n",
            "{'apple': 4, 'banana': 2}\n"
          ]
        }
      ],
      "source": [
        "words = list(map(str,input().split()))\n",
        "\n",
        "\n",
        "def count_words(words):\n",
        "  words_dict = {}\n",
        "  for i in words:\n",
        "    count=0\n",
        "    for j in words:\n",
        "      if i == j:\n",
        "        count+=1\n",
        "      words_dict[i]=count\n",
        "  return(words_dict)\n",
        "\n",
        "\n",
        "print(count_words(words))"
      ]
    },
    {
      "cell_type": "markdown",
      "metadata": {
        "id": "5BmIJLUZP9I-"
      },
      "source": [
        "**Задача 5:**\n",
        "\n",
        "Этап 1:\n",
        "Детектор анаграмм Напишите программу на Python, которая принимает в качестве входных данных две строки и проверяет, являются ли они анаграммами друг друга\n",
        "\n",
        "Этап 2:\n",
        "Оформите ваш код в виде функции\n",
        "\n",
        "Ввод:\n",
        "```\n",
        "listen, silent\n",
        "```\n",
        "\n",
        "Вывод:\n",
        "\n",
        "```\n",
        "True\n",
        "```"
      ]
    },
    {
      "cell_type": "code",
      "execution_count": null,
      "metadata": {
        "colab": {
          "base_uri": "https://localhost:8080/"
        },
        "id": "7LNW8DuHQJwH",
        "outputId": "ba1ed0eb-c0a7-49e9-a46f-a648df210416"
      },
      "outputs": [
        {
          "name": "stdout",
          "output_type": "stream",
          "text": [
            "пила слон\n"
          ]
        }
      ],
      "source": [
        "words = list(map(str,input().split()))\n",
        "words_letters1 = list(words[0])\n",
        "words_letters2 = list(words[1])\n",
        "rez=[]\n",
        "for i in range(len(words_letters1)):\n",
        "  for j in range(len(words_letters2)):\n",
        "    if words_letters1[i] == words_letters2[j]:\n",
        "      rez.append('T')\n",
        "if rez.count('T')==len(words_letters1):\n",
        "  print(True)\n",
        "else:\n",
        "  print(False)"
      ]
    },
    {
      "cell_type": "markdown",
      "metadata": {
        "id": "-SIWYSq2QKBh"
      },
      "source": [
        "**Задача 6:**\n",
        "\n",
        "Шифр ​​Цезаря\n",
        "\n",
        "Напишите программу на Python, которая реализует шифр Цезаря, простой метод шифрования, который заменяет каждую букву буквой на фиксированное количество позиций вниз по алфавиту. Программа должна запрашивать у пользователя сообщение и значение сдвига, а затем шифровать и расшифровывать сообщение.\n",
        "\n",
        "Этап 1:\n",
        "\n",
        "Напишите код для реализации данной задачи\n",
        "\n",
        "Этап 2:\n",
        "\n",
        "Оформите код в виде нескольких функций:\n",
        "\n",
        "* Зашифровывает сообщение\n",
        "* Расшифровывает сообщение"
      ]
    },
    {
      "cell_type": "code",
      "execution_count": null,
      "metadata": {
        "colab": {
          "base_uri": "https://localhost:8080/"
        },
        "id": "anThYirsQe6N",
        "outputId": "05814556-1edd-4d02-be97-66898366e56f"
      },
      "outputs": [
        {
          "output_type": "stream",
          "name": "stdout",
          "text": [
            "приветмяэму\n"
          ]
        }
      ],
      "source": [
        "def in_(x): #Зашифровывыние сообщения\n",
        "  y=''\n",
        "  x = list(x)\n",
        "  for j in range(len(x)):\n",
        "    for i in range(len(alphabet)):\n",
        "      if x[j] == alphabet[i]:\n",
        "        y=y+str(new_alphabet[i])\n",
        "  return y\n",
        "\n",
        "def out_(x): #Расшифровывание сообщение\n",
        "  y = ''\n",
        "  x = list(x)\n",
        "  for i in range(len(x)):\n",
        "    for j in range(len(new_alphabet)):\n",
        "      if x[i] == new_alphabet[j]:\n",
        "        y+=str(alphabet[j])\n",
        "  return y\n",
        "\n",
        "alphabet = 'абвгдеёжзийклмнопрстуфхцчшщъыьэюя'\n",
        "alphabet = list(alphabet)\n",
        "key = 3 #\n",
        "\n",
        "'''Алгоритм Шифрования'''\n",
        "new_alphabet = []\n",
        "for i in range(0,len(alphabet)):\n",
        "  meaning = i + key\n",
        "  if meaning > 32:\n",
        "    meaning = i + key - 33\n",
        "  else:\n",
        "    meaning = i + key\n",
        "  new_alphabet.append(alphabet[meaning])\n",
        "print(out_('тулезх пвапц'))"
      ]
    },
    {
      "cell_type": "markdown",
      "metadata": {
        "id": "avFZRRXrQz9O"
      },
      "source": [
        "**Задача 7**\n",
        "\n",
        "Задача: «Банковская система»\n",
        "\n",
        "Создайте программу Python, которая имитирует базовую банковскую систему. Система должна иметь следующие функции:\n",
        "\n",
        "Требования\n",
        "*   Система должна позволять клиентам создавать счета и хранить их балансы.\n",
        "*   Система должна позволять клиентам вносить и снимать деньги со своих счетов.\n",
        "*   Система должна позволять клиентам проверять свой текущий баланс.\n",
        "*   Система должна позволять клиентам переводить деньги между счетами.\n",
        "*   Система должна отслеживать транзакции (депозиты, снятия и переводы) и иметь возможность печатать детали транзакций.\n",
        "\n",
        "\n",
        "Задачи\n",
        "1. Реализуйте банковскую систему, используя только базовые конструкции Python, такие как def, lists, if, elif и else, без классов или словарей.\n",
        "Определите функции для создания счетов, внесения и снятия денег, получения балансов счетов, перевода денег между счетами, а также создания и печати транзакций.\n",
        "2. Напишите основную функцию, которая демонстрирует использование банковской системы путем создания счетов, внесения и снятия денег и перевода денег между счетами.\n",
        "3. Бонусное задание\n",
        "Реализуйте способ хранения и печати истории транзакций для каждого счета.\n",
        "\n",
        "Ограничения\n",
        "Не используйте классы или словари.\n",
        "Используйте только базовые конструкции Python, такие как def, lists, if, elif и else.\n"
      ]
    },
    {
      "cell_type": "code",
      "source": [],
      "metadata": {
        "id": "sGmq6reOM4JR"
      },
      "execution_count": null,
      "outputs": []
    }
  ],
  "metadata": {
    "colab": {
      "provenance": []
    },
    "kernelspec": {
      "display_name": "Python 3",
      "name": "python3"
    },
    "language_info": {
      "name": "python"
    }
  },
  "nbformat": 4,
  "nbformat_minor": 0
}